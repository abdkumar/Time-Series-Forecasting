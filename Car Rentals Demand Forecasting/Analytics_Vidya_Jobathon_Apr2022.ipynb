{
 "cells": [
  {
   "cell_type": "markdown",
   "id": "a5aa5393-6f6f-4213-b2e8-25ae3502a9ba",
   "metadata": {},
   "source": [
    "### Import libraries"
   ]
  },
  {
   "cell_type": "code",
   "execution_count": 1,
   "id": "41003b79-bf64-424e-8250-3aa7b00d1483",
   "metadata": {},
   "outputs": [],
   "source": [
    "import pandas as pd\n",
    "import numpy as np\n",
    "import matplotlib.pyplot as plt\n",
    "import seaborn as sns\n",
    "import calendar\n",
    "import holidays\n",
    "import time\n",
    "\n",
    "import statsmodels.api as sm\n",
    "from statsmodels.stats.outliers_influence import variance_inflation_factor\n",
    "from statsmodels.tools.tools import add_constant\n",
    "\n",
    "from sklearn.inspection import permutation_importance\n",
    "from sklearn.model_selection import train_test_split\n",
    "\n",
    "from sklearn.metrics import mean_squared_error, r2_score\n",
    "from sklearn.linear_model import LinearRegression, Ridge\n",
    "from sklearn.tree import DecisionTreeRegressor\n",
    "from sklearn.ensemble import RandomForestRegressor\n",
    "\n",
    "\n",
    "from xgboost import XGBRegressor, XGBRFRegressor\n",
    "import lightgbm as lgb\n",
    "from lightgbm import LGBMRegressor\n",
    "from catboost import CatBoostRegressor"
   ]
  },
  {
   "cell_type": "markdown",
   "id": "b3d29e32-b35f-4b6c-892a-49dad58ca676",
   "metadata": {},
   "source": [
    "### Load data"
   ]
  },
  {
   "cell_type": "code",
   "execution_count": 2,
   "id": "bd521aa7-3513-4f53-aa7b-66984fe7fd4b",
   "metadata": {},
   "outputs": [],
   "source": [
    "train = pd.read_csv(\"train.csv\")\n",
    "test = pd.read_csv(\"test.csv\")\n",
    "submission = pd.read_csv(\"sample_submission.csv\")"
   ]
  },
  {
   "cell_type": "code",
   "execution_count": 3,
   "id": "094bd5e1-30f7-4ebb-827f-29b839eefbde",
   "metadata": {},
   "outputs": [
    {
     "data": {
      "text/html": [
       "<div>\n",
       "<style scoped>\n",
       "    .dataframe tbody tr th:only-of-type {\n",
       "        vertical-align: middle;\n",
       "    }\n",
       "\n",
       "    .dataframe tbody tr th {\n",
       "        vertical-align: top;\n",
       "    }\n",
       "\n",
       "    .dataframe thead th {\n",
       "        text-align: right;\n",
       "    }\n",
       "</style>\n",
       "<table border=\"1\" class=\"dataframe\">\n",
       "  <thead>\n",
       "    <tr style=\"text-align: right;\">\n",
       "      <th></th>\n",
       "      <th>date</th>\n",
       "      <th>hour</th>\n",
       "      <th>demand</th>\n",
       "    </tr>\n",
       "  </thead>\n",
       "  <tbody>\n",
       "    <tr>\n",
       "      <th>0</th>\n",
       "      <td>2018-08-18</td>\n",
       "      <td>9</td>\n",
       "      <td>91</td>\n",
       "    </tr>\n",
       "    <tr>\n",
       "      <th>1</th>\n",
       "      <td>2018-08-18</td>\n",
       "      <td>10</td>\n",
       "      <td>21</td>\n",
       "    </tr>\n",
       "    <tr>\n",
       "      <th>2</th>\n",
       "      <td>2018-08-18</td>\n",
       "      <td>13</td>\n",
       "      <td>23</td>\n",
       "    </tr>\n",
       "    <tr>\n",
       "      <th>3</th>\n",
       "      <td>2018-08-18</td>\n",
       "      <td>14</td>\n",
       "      <td>104</td>\n",
       "    </tr>\n",
       "    <tr>\n",
       "      <th>4</th>\n",
       "      <td>2018-08-18</td>\n",
       "      <td>15</td>\n",
       "      <td>81</td>\n",
       "    </tr>\n",
       "  </tbody>\n",
       "</table>\n",
       "</div>"
      ],
      "text/plain": [
       "         date  hour  demand\n",
       "0  2018-08-18     9      91\n",
       "1  2018-08-18    10      21\n",
       "2  2018-08-18    13      23\n",
       "3  2018-08-18    14     104\n",
       "4  2018-08-18    15      81"
      ]
     },
     "execution_count": 3,
     "metadata": {},
     "output_type": "execute_result"
    }
   ],
   "source": [
    "# preview data\n",
    "train.head()"
   ]
  },
  {
   "cell_type": "code",
   "execution_count": 4,
   "id": "4c7f3d2b-f114-4241-b4c7-ec305eb2a114",
   "metadata": {},
   "outputs": [
    {
     "data": {
      "text/html": [
       "<div>\n",
       "<style scoped>\n",
       "    .dataframe tbody tr th:only-of-type {\n",
       "        vertical-align: middle;\n",
       "    }\n",
       "\n",
       "    .dataframe tbody tr th {\n",
       "        vertical-align: top;\n",
       "    }\n",
       "\n",
       "    .dataframe thead th {\n",
       "        text-align: right;\n",
       "    }\n",
       "</style>\n",
       "<table border=\"1\" class=\"dataframe\">\n",
       "  <thead>\n",
       "    <tr style=\"text-align: right;\">\n",
       "      <th></th>\n",
       "      <th>date</th>\n",
       "      <th>hour</th>\n",
       "    </tr>\n",
       "  </thead>\n",
       "  <tbody>\n",
       "    <tr>\n",
       "      <th>0</th>\n",
       "      <td>2021-03-01</td>\n",
       "      <td>0</td>\n",
       "    </tr>\n",
       "    <tr>\n",
       "      <th>1</th>\n",
       "      <td>2021-03-01</td>\n",
       "      <td>1</td>\n",
       "    </tr>\n",
       "    <tr>\n",
       "      <th>2</th>\n",
       "      <td>2021-03-01</td>\n",
       "      <td>2</td>\n",
       "    </tr>\n",
       "    <tr>\n",
       "      <th>3</th>\n",
       "      <td>2021-03-01</td>\n",
       "      <td>3</td>\n",
       "    </tr>\n",
       "    <tr>\n",
       "      <th>4</th>\n",
       "      <td>2021-03-01</td>\n",
       "      <td>5</td>\n",
       "    </tr>\n",
       "  </tbody>\n",
       "</table>\n",
       "</div>"
      ],
      "text/plain": [
       "         date  hour\n",
       "0  2021-03-01     0\n",
       "1  2021-03-01     1\n",
       "2  2021-03-01     2\n",
       "3  2021-03-01     3\n",
       "4  2021-03-01     5"
      ]
     },
     "execution_count": 4,
     "metadata": {},
     "output_type": "execute_result"
    }
   ],
   "source": [
    "test.head()"
   ]
  },
  {
   "cell_type": "code",
   "execution_count": 5,
   "id": "ba0e99c1-dd69-4190-81b1-85ef8dbfb3a6",
   "metadata": {},
   "outputs": [
    {
     "data": {
      "text/html": [
       "<div>\n",
       "<style scoped>\n",
       "    .dataframe tbody tr th:only-of-type {\n",
       "        vertical-align: middle;\n",
       "    }\n",
       "\n",
       "    .dataframe tbody tr th {\n",
       "        vertical-align: top;\n",
       "    }\n",
       "\n",
       "    .dataframe thead th {\n",
       "        text-align: right;\n",
       "    }\n",
       "</style>\n",
       "<table border=\"1\" class=\"dataframe\">\n",
       "  <thead>\n",
       "    <tr style=\"text-align: right;\">\n",
       "      <th></th>\n",
       "      <th>date</th>\n",
       "      <th>hour</th>\n",
       "      <th>demand</th>\n",
       "    </tr>\n",
       "  </thead>\n",
       "  <tbody>\n",
       "    <tr>\n",
       "      <th>0</th>\n",
       "      <td>2021-03-01</td>\n",
       "      <td>0</td>\n",
       "      <td>0</td>\n",
       "    </tr>\n",
       "    <tr>\n",
       "      <th>1</th>\n",
       "      <td>2021-03-01</td>\n",
       "      <td>1</td>\n",
       "      <td>0</td>\n",
       "    </tr>\n",
       "    <tr>\n",
       "      <th>2</th>\n",
       "      <td>2021-03-01</td>\n",
       "      <td>2</td>\n",
       "      <td>0</td>\n",
       "    </tr>\n",
       "    <tr>\n",
       "      <th>3</th>\n",
       "      <td>2021-03-01</td>\n",
       "      <td>3</td>\n",
       "      <td>0</td>\n",
       "    </tr>\n",
       "    <tr>\n",
       "      <th>4</th>\n",
       "      <td>2021-03-01</td>\n",
       "      <td>5</td>\n",
       "      <td>0</td>\n",
       "    </tr>\n",
       "  </tbody>\n",
       "</table>\n",
       "</div>"
      ],
      "text/plain": [
       "         date  hour  demand\n",
       "0  2021-03-01     0       0\n",
       "1  2021-03-01     1       0\n",
       "2  2021-03-01     2       0\n",
       "3  2021-03-01     3       0\n",
       "4  2021-03-01     5       0"
      ]
     },
     "execution_count": 5,
     "metadata": {},
     "output_type": "execute_result"
    }
   ],
   "source": [
    "submission.head()"
   ]
  },
  {
   "cell_type": "code",
   "execution_count": 6,
   "id": "482830fd-992d-4918-9898-fac7d9279467",
   "metadata": {},
   "outputs": [],
   "source": [
    "# date formatting\n",
    "train['date'] = pd.to_datetime(train['date'])\n",
    "test['date'] = pd.to_datetime(test['date'])"
   ]
  },
  {
   "cell_type": "code",
   "execution_count": 7,
   "id": "7181a90c-bd23-4804-9d30-aa0b46e2e207",
   "metadata": {},
   "outputs": [
    {
     "data": {
      "text/html": [
       "<div>\n",
       "<style scoped>\n",
       "    .dataframe tbody tr th:only-of-type {\n",
       "        vertical-align: middle;\n",
       "    }\n",
       "\n",
       "    .dataframe tbody tr th {\n",
       "        vertical-align: top;\n",
       "    }\n",
       "\n",
       "    .dataframe thead th {\n",
       "        text-align: right;\n",
       "    }\n",
       "</style>\n",
       "<table border=\"1\" class=\"dataframe\">\n",
       "  <thead>\n",
       "    <tr style=\"text-align: right;\">\n",
       "      <th></th>\n",
       "      <th>date</th>\n",
       "      <th>hour</th>\n",
       "      <th>demand</th>\n",
       "    </tr>\n",
       "  </thead>\n",
       "  <tbody>\n",
       "    <tr>\n",
       "      <th>0</th>\n",
       "      <td>2018-08-18</td>\n",
       "      <td>9</td>\n",
       "      <td>91</td>\n",
       "    </tr>\n",
       "    <tr>\n",
       "      <th>1</th>\n",
       "      <td>2018-08-18</td>\n",
       "      <td>10</td>\n",
       "      <td>21</td>\n",
       "    </tr>\n",
       "    <tr>\n",
       "      <th>2</th>\n",
       "      <td>2018-08-18</td>\n",
       "      <td>13</td>\n",
       "      <td>23</td>\n",
       "    </tr>\n",
       "    <tr>\n",
       "      <th>3</th>\n",
       "      <td>2018-08-18</td>\n",
       "      <td>14</td>\n",
       "      <td>104</td>\n",
       "    </tr>\n",
       "    <tr>\n",
       "      <th>4</th>\n",
       "      <td>2018-08-18</td>\n",
       "      <td>15</td>\n",
       "      <td>81</td>\n",
       "    </tr>\n",
       "  </tbody>\n",
       "</table>\n",
       "</div>"
      ],
      "text/plain": [
       "        date  hour  demand\n",
       "0 2018-08-18     9      91\n",
       "1 2018-08-18    10      21\n",
       "2 2018-08-18    13      23\n",
       "3 2018-08-18    14     104\n",
       "4 2018-08-18    15      81"
      ]
     },
     "execution_count": 7,
     "metadata": {},
     "output_type": "execute_result"
    }
   ],
   "source": [
    "train.sort_values(['date', 'hour']).head()"
   ]
  },
  {
   "cell_type": "code",
   "execution_count": 8,
   "id": "fa46a29d-837f-45c9-b0d8-72b97417af66",
   "metadata": {},
   "outputs": [
    {
     "data": {
      "text/plain": [
       "array(['2018-08-18T00:00:00.000000000', '2018-08-19T00:00:00.000000000',\n",
       "       '2018-08-20T00:00:00.000000000', '2018-08-21T00:00:00.000000000',\n",
       "       '2018-08-22T00:00:00.000000000'], dtype='datetime64[ns]')"
      ]
     },
     "execution_count": 8,
     "metadata": {},
     "output_type": "execute_result"
    }
   ],
   "source": [
    "train['date'].unique()[:5]"
   ]
  },
  {
   "cell_type": "markdown",
   "id": "c4269aa6-af5e-42fb-9980-e1b542b9492c",
   "metadata": {},
   "source": [
    "Date values are continuous, but the hour level data is not continous. So, we cannot apply regular time series forecasting models like ARIMA, SARIMA etc.,\n"
   ]
  },
  {
   "cell_type": "code",
   "execution_count": 9,
   "id": "f123f273-c7b2-4f4f-93e3-63adc917407c",
   "metadata": {},
   "outputs": [
    {
     "name": "stderr",
     "output_type": "stream",
     "text": [
      "C:\\anaconda_installed\\envs\\AlgoTrading\\lib\\site-packages\\seaborn\\_decorators.py:43: FutureWarning: Pass the following variables as keyword args: x, y. From version 0.12, the only valid positional argument will be `data`, and passing other arguments without an explicit keyword will result in an error or misinterpretation.\n",
      "  FutureWarning\n"
     ]
    },
    {
     "data": {
      "text/plain": [
       "<AxesSubplot:xlabel='date', ylabel='demand'>"
      ]
     },
     "execution_count": 9,
     "metadata": {},
     "output_type": "execute_result"
    },
    {
     "data": {
      "image/png": "[encoded data removed]",
      "text/plain": [
       "<Figure size 432x288 with 1 Axes>"
      ]
     },
     "metadata": {
      "needs_background": "light"
     },
     "output_type": "display_data"
    }
   ],
   "source": [
    "# date v/s demand distribution\n",
    "sns.lineplot(train['date'], train['demand'])"
   ]
  },
  {
   "cell_type": "markdown",
   "id": "afa1e8fa-3a16-4bd2-a345-dd33e84e18d6",
   "metadata": {},
   "source": [
    "### Feature Engineering"
   ]
  },
  {
   "cell_type": "code",
   "execution_count": 10,
   "id": "a8508091-dbad-4d67-93de-014202fb3edc",
   "metadata": {},
   "outputs": [
    {
     "data": {
      "text/plain": [
       "date      0\n",
       "hour      0\n",
       "demand    0\n",
       "dtype: int64"
      ]
     },
     "execution_count": 10,
     "metadata": {},
     "output_type": "execute_result"
    }
   ],
   "source": [
    "# check null values\n",
    "train.isnull().sum()"
   ]
  },
  {
   "cell_type": "code",
   "execution_count": 11,
   "id": "00e307b8-dc55-4f5e-90f4-4eb2e8fdd6ec",
   "metadata": {},
   "outputs": [
    {
     "data": {
      "text/plain": [
       "date    0\n",
       "hour    0\n",
       "dtype: int64"
      ]
     },
     "execution_count": 11,
     "metadata": {},
     "output_type": "execute_result"
    }
   ],
   "source": [
    "test.isnull().sum()"
   ]
  },
  {
   "cell_type": "code",
   "execution_count": 12,
   "id": "bd823007-287f-449f-9b86-54d8eb31fae9",
   "metadata": {},
   "outputs": [],
   "source": [
    "def checkWeekend(x):\n",
    "    if x=='Saturday' or x=='Sunday':\n",
    "        return 1\n",
    "    return 0        "
   ]
  },
  {
   "cell_type": "markdown",
   "id": "fae704ae-5157-44d9-bee1-15303274dc45",
   "metadata": {},
   "source": [
    "#### Create attributes from date column"
   ]
  },
  {
   "cell_type": "code",
   "execution_count": 13,
   "id": "16fff253-03c7-42d6-b12e-3728012eedf3",
   "metadata": {},
   "outputs": [],
   "source": [
    "train['month'] = train['date'].dt.month\n",
    "train['day'] = train['date'].dt.day\n",
    "train['weekofyear'] = train['date'].dt.isocalendar().week\n",
    "train['day_of_week'] = train['date'].dt.dayofweek\n",
    "train['is_weekend'] = train['day_of_week'].apply(lambda x: 1 if x>4 else 0)\n",
    "\n",
    "# pre/post weekend may have impact on car demand\n",
    "train['post_weekend'] = (train['day_of_week']==1).astype(int)\n",
    "train['pre_weekend'] = (train['day_of_week']==4).astype(int)\n",
    "train['quarter'] = train['date'].dt.quarter"
   ]
  },
  {
   "cell_type": "code",
   "execution_count": 14,
   "id": "3e18ad7d-f0ac-4251-a091-9ebe5af39e57",
   "metadata": {},
   "outputs": [],
   "source": [
    "test['month'] = test['date'].dt.month\n",
    "test['day'] = test['date'].dt.day\n",
    "test['weekofyear'] = test['date'].dt.isocalendar().week\n",
    "test['day_of_week'] = test['date'].dt.dayofweek\n",
    "test['is_weekend'] = test['day_of_week'].apply(lambda x: 1 if x>4 else 0)\n",
    "\n",
    "# pre/post weekend may have impact on car demand\n",
    "test['post_weekend'] = (test['day_of_week']==1).astype(int)\n",
    "test['pre_weekend'] = (test['day_of_week']==4).astype(int)\n",
    "test['quarter'] = test['date'].dt.quarter"
   ]
  },
  {
   "cell_type": "code",
   "execution_count": 15,
   "id": "7d665be1-9bd1-45c0-9088-3e2f8ae7b5f3",
   "metadata": {},
   "outputs": [
    {
     "data": {
      "text/html": [
       "<div>\n",
       "<style scoped>\n",
       "    .dataframe tbody tr th:only-of-type {\n",
       "        vertical-align: middle;\n",
       "    }\n",
       "\n",
       "    .dataframe tbody tr th {\n",
       "        vertical-align: top;\n",
       "    }\n",
       "\n",
       "    .dataframe thead th {\n",
       "        text-align: right;\n",
       "    }\n",
       "</style>\n",
       "<table border=\"1\" class=\"dataframe\">\n",
       "  <thead>\n",
       "    <tr style=\"text-align: right;\">\n",
       "      <th></th>\n",
       "      <th>date</th>\n",
       "      <th>hour</th>\n",
       "      <th>demand</th>\n",
       "      <th>month</th>\n",
       "      <th>day</th>\n",
       "      <th>weekofyear</th>\n",
       "      <th>day_of_week</th>\n",
       "      <th>is_weekend</th>\n",
       "      <th>post_weekend</th>\n",
       "      <th>pre_weekend</th>\n",
       "      <th>quarter</th>\n",
       "    </tr>\n",
       "  </thead>\n",
       "  <tbody>\n",
       "    <tr>\n",
       "      <th>0</th>\n",
       "      <td>2018-08-18</td>\n",
       "      <td>9</td>\n",
       "      <td>91</td>\n",
       "      <td>8</td>\n",
       "      <td>18</td>\n",
       "      <td>33</td>\n",
       "      <td>5</td>\n",
       "      <td>1</td>\n",
       "      <td>0</td>\n",
       "      <td>0</td>\n",
       "      <td>3</td>\n",
       "    </tr>\n",
       "    <tr>\n",
       "      <th>1</th>\n",
       "      <td>2018-08-18</td>\n",
       "      <td>10</td>\n",
       "      <td>21</td>\n",
       "      <td>8</td>\n",
       "      <td>18</td>\n",
       "      <td>33</td>\n",
       "      <td>5</td>\n",
       "      <td>1</td>\n",
       "      <td>0</td>\n",
       "      <td>0</td>\n",
       "      <td>3</td>\n",
       "    </tr>\n",
       "    <tr>\n",
       "      <th>2</th>\n",
       "      <td>2018-08-18</td>\n",
       "      <td>13</td>\n",
       "      <td>23</td>\n",
       "      <td>8</td>\n",
       "      <td>18</td>\n",
       "      <td>33</td>\n",
       "      <td>5</td>\n",
       "      <td>1</td>\n",
       "      <td>0</td>\n",
       "      <td>0</td>\n",
       "      <td>3</td>\n",
       "    </tr>\n",
       "    <tr>\n",
       "      <th>3</th>\n",
       "      <td>2018-08-18</td>\n",
       "      <td>14</td>\n",
       "      <td>104</td>\n",
       "      <td>8</td>\n",
       "      <td>18</td>\n",
       "      <td>33</td>\n",
       "      <td>5</td>\n",
       "      <td>1</td>\n",
       "      <td>0</td>\n",
       "      <td>0</td>\n",
       "      <td>3</td>\n",
       "    </tr>\n",
       "    <tr>\n",
       "      <th>4</th>\n",
       "      <td>2018-08-18</td>\n",
       "      <td>15</td>\n",
       "      <td>81</td>\n",
       "      <td>8</td>\n",
       "      <td>18</td>\n",
       "      <td>33</td>\n",
       "      <td>5</td>\n",
       "      <td>1</td>\n",
       "      <td>0</td>\n",
       "      <td>0</td>\n",
       "      <td>3</td>\n",
       "    </tr>\n",
       "  </tbody>\n",
       "</table>\n",
       "</div>"
      ],
      "text/plain": [
       "        date  hour  demand  month  day  weekofyear  day_of_week  is_weekend  \\\n",
       "0 2018-08-18     9      91      8   18          33            5           1   \n",
       "1 2018-08-18    10      21      8   18          33            5           1   \n",
       "2 2018-08-18    13      23      8   18          33            5           1   \n",
       "3 2018-08-18    14     104      8   18          33            5           1   \n",
       "4 2018-08-18    15      81      8   18          33            5           1   \n",
       "\n",
       "   post_weekend  pre_weekend  quarter  \n",
       "0             0            0        3  \n",
       "1             0            0        3  \n",
       "2             0            0        3  \n",
       "3             0            0        3  \n",
       "4             0            0        3  "
      ]
     },
     "execution_count": 15,
     "metadata": {},
     "output_type": "execute_result"
    }
   ],
   "source": [
    "train.head()"
   ]
  },
  {
   "cell_type": "markdown",
   "id": "d9c3f57b-ac27-4647-84b7-8f289aec0120",
   "metadata": {},
   "source": [
    "#### Add holidays data"
   ]
  },
  {
   "cell_type": "code",
   "execution_count": 16,
   "id": "96d80ab8-8918-416d-8793-86e5e0c12c33",
   "metadata": {},
   "outputs": [
    {
     "data": {
      "text/plain": [
       "(array([2018, 2019, 2020, 2021], dtype=int64),\n",
       " array([2021, 2022], dtype=int64))"
      ]
     },
     "execution_count": 16,
     "metadata": {},
     "output_type": "execute_result"
    }
   ],
   "source": [
    "train['date'].dt.year.unique(), test['date'].dt.year.unique()"
   ]
  },
  {
   "cell_type": "code",
   "execution_count": 17,
   "id": "9ace0b6d-923d-41e5-b33f-aaab46653d53",
   "metadata": {},
   "outputs": [],
   "source": [
    "# get Karnataka holidays for the required years\n",
    "karnataka_holidays = holidays.IN(subdiv='KA', years=[2018,2019,2020,2021,2022])"
   ]
  },
  {
   "cell_type": "code",
   "execution_count": 18,
   "id": "dee730e8-8478-4a3b-832e-051a0524e2c2",
   "metadata": {},
   "outputs": [
    {
     "data": {
      "text/plain": [
       "{datetime.date(2018, 1, 14): 'Makar Sankranti / Pongal', datetime.date(2018, 1, 26): 'Republic Day', datetime.date(2018, 8, 15): 'Independence Day', datetime.date(2018, 10, 2): 'Gandhi Jayanti', datetime.date(2018, 5, 1): 'Labour Day', datetime.date(2018, 12, 25): 'Christmas', datetime.date(2018, 11, 1): 'Karnataka Rajyotsava', datetime.date(2018, 11, 7): 'Diwali', datetime.date(2018, 3, 2): 'Holi', datetime.date(2019, 1, 14): 'Makar Sankranti / Pongal', datetime.date(2019, 1, 26): 'Republic Day', datetime.date(2019, 8, 15): 'Independence Day', datetime.date(2019, 10, 2): 'Gandhi Jayanti', datetime.date(2019, 5, 1): 'Labour Day', datetime.date(2019, 12, 25): 'Christmas', datetime.date(2019, 11, 1): 'Karnataka Rajyotsava', datetime.date(2019, 10, 27): 'Diwali', datetime.date(2019, 3, 21): 'Holi', datetime.date(2020, 1, 14): 'Makar Sankranti / Pongal', datetime.date(2020, 1, 26): 'Republic Day', datetime.date(2020, 8, 15): 'Independence Day', datetime.date(2020, 10, 2): 'Gandhi Jayanti', datetime.date(2020, 5, 1): 'Labour Day', datetime.date(2020, 12, 25): 'Christmas', datetime.date(2020, 11, 1): 'Karnataka Rajyotsava', datetime.date(2020, 11, 14): 'Diwali', datetime.date(2020, 3, 9): 'Holi', datetime.date(2021, 1, 14): 'Makar Sankranti / Pongal', datetime.date(2021, 1, 26): 'Republic Day', datetime.date(2021, 8, 15): 'Independence Day', datetime.date(2021, 10, 2): 'Gandhi Jayanti', datetime.date(2021, 5, 1): 'Labour Day', datetime.date(2021, 12, 25): 'Christmas', datetime.date(2021, 11, 1): 'Karnataka Rajyotsava', datetime.date(2021, 11, 4): 'Diwali', datetime.date(2021, 3, 28): 'Holi', datetime.date(2022, 1, 14): 'Makar Sankranti / Pongal', datetime.date(2022, 1, 26): 'Republic Day', datetime.date(2022, 8, 15): 'Independence Day', datetime.date(2022, 10, 2): 'Gandhi Jayanti', datetime.date(2022, 5, 1): 'Labour Day', datetime.date(2022, 12, 25): 'Christmas', datetime.date(2022, 11, 1): 'Karnataka Rajyotsava', datetime.date(2022, 10, 24): 'Diwali', datetime.date(2022, 3, 18): 'Holi'}"
      ]
     },
     "execution_count": 18,
     "metadata": {},
     "output_type": "execute_result"
    }
   ],
   "source": [
    "karnataka_holidays"
   ]
  },
  {
   "cell_type": "code",
   "execution_count": 19,
   "id": "cf77dd22-7b95-4cea-a03d-858b5464df3c",
   "metadata": {},
   "outputs": [],
   "source": [
    "# create holiday column from holidays data\n",
    "train['is_govt_holiday'] = train['date'].isin(karnataka_holidays).astype(int)\n",
    "test['is_govt_holiday'] = test['date'].isin(karnataka_holidays).astype(int)"
   ]
  },
  {
   "cell_type": "code",
   "execution_count": 20,
   "id": "2fe7f67e-17ec-4870-801c-5b3e05e112da",
   "metadata": {},
   "outputs": [
    {
     "data": {
      "text/html": [
       "<div>\n",
       "<style scoped>\n",
       "    .dataframe tbody tr th:only-of-type {\n",
       "        vertical-align: middle;\n",
       "    }\n",
       "\n",
       "    .dataframe tbody tr th {\n",
       "        vertical-align: top;\n",
       "    }\n",
       "\n",
       "    .dataframe thead th {\n",
       "        text-align: right;\n",
       "    }\n",
       "</style>\n",
       "<table border=\"1\" class=\"dataframe\">\n",
       "  <thead>\n",
       "    <tr style=\"text-align: right;\">\n",
       "      <th></th>\n",
       "      <th>date</th>\n",
       "      <th>hour</th>\n",
       "      <th>demand</th>\n",
       "      <th>month</th>\n",
       "      <th>day</th>\n",
       "      <th>weekofyear</th>\n",
       "      <th>day_of_week</th>\n",
       "      <th>is_weekend</th>\n",
       "      <th>post_weekend</th>\n",
       "      <th>pre_weekend</th>\n",
       "      <th>quarter</th>\n",
       "      <th>is_govt_holiday</th>\n",
       "    </tr>\n",
       "  </thead>\n",
       "  <tbody>\n",
       "    <tr>\n",
       "      <th>0</th>\n",
       "      <td>2018-08-18</td>\n",
       "      <td>9</td>\n",
       "      <td>91</td>\n",
       "      <td>8</td>\n",
       "      <td>18</td>\n",
       "      <td>33</td>\n",
       "      <td>5</td>\n",
       "      <td>1</td>\n",
       "      <td>0</td>\n",
       "      <td>0</td>\n",
       "      <td>3</td>\n",
       "      <td>0</td>\n",
       "    </tr>\n",
       "    <tr>\n",
       "      <th>1</th>\n",
       "      <td>2018-08-18</td>\n",
       "      <td>10</td>\n",
       "      <td>21</td>\n",
       "      <td>8</td>\n",
       "      <td>18</td>\n",
       "      <td>33</td>\n",
       "      <td>5</td>\n",
       "      <td>1</td>\n",
       "      <td>0</td>\n",
       "      <td>0</td>\n",
       "      <td>3</td>\n",
       "      <td>0</td>\n",
       "    </tr>\n",
       "    <tr>\n",
       "      <th>2</th>\n",
       "      <td>2018-08-18</td>\n",
       "      <td>13</td>\n",
       "      <td>23</td>\n",
       "      <td>8</td>\n",
       "      <td>18</td>\n",
       "      <td>33</td>\n",
       "      <td>5</td>\n",
       "      <td>1</td>\n",
       "      <td>0</td>\n",
       "      <td>0</td>\n",
       "      <td>3</td>\n",
       "      <td>0</td>\n",
       "    </tr>\n",
       "    <tr>\n",
       "      <th>3</th>\n",
       "      <td>2018-08-18</td>\n",
       "      <td>14</td>\n",
       "      <td>104</td>\n",
       "      <td>8</td>\n",
       "      <td>18</td>\n",
       "      <td>33</td>\n",
       "      <td>5</td>\n",
       "      <td>1</td>\n",
       "      <td>0</td>\n",
       "      <td>0</td>\n",
       "      <td>3</td>\n",
       "      <td>0</td>\n",
       "    </tr>\n",
       "    <tr>\n",
       "      <th>4</th>\n",
       "      <td>2018-08-18</td>\n",
       "      <td>15</td>\n",
       "      <td>81</td>\n",
       "      <td>8</td>\n",
       "      <td>18</td>\n",
       "      <td>33</td>\n",
       "      <td>5</td>\n",
       "      <td>1</td>\n",
       "      <td>0</td>\n",
       "      <td>0</td>\n",
       "      <td>3</td>\n",
       "      <td>0</td>\n",
       "    </tr>\n",
       "    <tr>\n",
       "      <th>...</th>\n",
       "      <td>...</td>\n",
       "      <td>...</td>\n",
       "      <td>...</td>\n",
       "      <td>...</td>\n",
       "      <td>...</td>\n",
       "      <td>...</td>\n",
       "      <td>...</td>\n",
       "      <td>...</td>\n",
       "      <td>...</td>\n",
       "      <td>...</td>\n",
       "      <td>...</td>\n",
       "      <td>...</td>\n",
       "    </tr>\n",
       "    <tr>\n",
       "      <th>18242</th>\n",
       "      <td>2021-02-28</td>\n",
       "      <td>19</td>\n",
       "      <td>95</td>\n",
       "      <td>2</td>\n",
       "      <td>28</td>\n",
       "      <td>8</td>\n",
       "      <td>6</td>\n",
       "      <td>1</td>\n",
       "      <td>0</td>\n",
       "      <td>0</td>\n",
       "      <td>1</td>\n",
       "      <td>0</td>\n",
       "    </tr>\n",
       "    <tr>\n",
       "      <th>18243</th>\n",
       "      <td>2021-02-28</td>\n",
       "      <td>20</td>\n",
       "      <td>88</td>\n",
       "      <td>2</td>\n",
       "      <td>28</td>\n",
       "      <td>8</td>\n",
       "      <td>6</td>\n",
       "      <td>1</td>\n",
       "      <td>0</td>\n",
       "      <td>0</td>\n",
       "      <td>1</td>\n",
       "      <td>0</td>\n",
       "    </tr>\n",
       "    <tr>\n",
       "      <th>18244</th>\n",
       "      <td>2021-02-28</td>\n",
       "      <td>21</td>\n",
       "      <td>39</td>\n",
       "      <td>2</td>\n",
       "      <td>28</td>\n",
       "      <td>8</td>\n",
       "      <td>6</td>\n",
       "      <td>1</td>\n",
       "      <td>0</td>\n",
       "      <td>0</td>\n",
       "      <td>1</td>\n",
       "      <td>0</td>\n",
       "    </tr>\n",
       "    <tr>\n",
       "      <th>18245</th>\n",
       "      <td>2021-02-28</td>\n",
       "      <td>22</td>\n",
       "      <td>104</td>\n",
       "      <td>2</td>\n",
       "      <td>28</td>\n",
       "      <td>8</td>\n",
       "      <td>6</td>\n",
       "      <td>1</td>\n",
       "      <td>0</td>\n",
       "      <td>0</td>\n",
       "      <td>1</td>\n",
       "      <td>0</td>\n",
       "    </tr>\n",
       "    <tr>\n",
       "      <th>18246</th>\n",
       "      <td>2021-02-28</td>\n",
       "      <td>23</td>\n",
       "      <td>85</td>\n",
       "      <td>2</td>\n",
       "      <td>28</td>\n",
       "      <td>8</td>\n",
       "      <td>6</td>\n",
       "      <td>1</td>\n",
       "      <td>0</td>\n",
       "      <td>0</td>\n",
       "      <td>1</td>\n",
       "      <td>0</td>\n",
       "    </tr>\n",
       "  </tbody>\n",
       "</table>\n",
       "<p>18247 rows × 12 columns</p>\n",
       "</div>"
      ],
      "text/plain": [
       "            date  hour  demand  month  day  weekofyear  day_of_week  \\\n",
       "0     2018-08-18     9      91      8   18          33            5   \n",
       "1     2018-08-18    10      21      8   18          33            5   \n",
       "2     2018-08-18    13      23      8   18          33            5   \n",
       "3     2018-08-18    14     104      8   18          33            5   \n",
       "4     2018-08-18    15      81      8   18          33            5   \n",
       "...          ...   ...     ...    ...  ...         ...          ...   \n",
       "18242 2021-02-28    19      95      2   28           8            6   \n",
       "18243 2021-02-28    20      88      2   28           8            6   \n",
       "18244 2021-02-28    21      39      2   28           8            6   \n",
       "18245 2021-02-28    22     104      2   28           8            6   \n",
       "18246 2021-02-28    23      85      2   28           8            6   \n",
       "\n",
       "       is_weekend  post_weekend  pre_weekend  quarter  is_govt_holiday  \n",
       "0               1             0            0        3                0  \n",
       "1               1             0            0        3                0  \n",
       "2               1             0            0        3                0  \n",
       "3               1             0            0        3                0  \n",
       "4               1             0            0        3                0  \n",
       "...           ...           ...          ...      ...              ...  \n",
       "18242           1             0            0        1                0  \n",
       "18243           1             0            0        1                0  \n",
       "18244           1             0            0        1                0  \n",
       "18245           1             0            0        1                0  \n",
       "18246           1             0            0        1                0  \n",
       "\n",
       "[18247 rows x 12 columns]"
      ]
     },
     "execution_count": 20,
     "metadata": {},
     "output_type": "execute_result"
    }
   ],
   "source": [
    "train"
   ]
  },
  {
   "cell_type": "code",
   "execution_count": 21,
   "id": "0ea5fd31-0cd1-4af8-9255-9b863e4c2b76",
   "metadata": {},
   "outputs": [
    {
     "data": {
      "text/html": [
       "<div>\n",
       "<style scoped>\n",
       "    .dataframe tbody tr th:only-of-type {\n",
       "        vertical-align: middle;\n",
       "    }\n",
       "\n",
       "    .dataframe tbody tr th {\n",
       "        vertical-align: top;\n",
       "    }\n",
       "\n",
       "    .dataframe thead th {\n",
       "        text-align: right;\n",
       "    }\n",
       "</style>\n",
       "<table border=\"1\" class=\"dataframe\">\n",
       "  <thead>\n",
       "    <tr style=\"text-align: right;\">\n",
       "      <th></th>\n",
       "      <th>date</th>\n",
       "      <th>hour</th>\n",
       "      <th>month</th>\n",
       "      <th>day</th>\n",
       "      <th>weekofyear</th>\n",
       "      <th>day_of_week</th>\n",
       "      <th>is_weekend</th>\n",
       "      <th>post_weekend</th>\n",
       "      <th>pre_weekend</th>\n",
       "      <th>quarter</th>\n",
       "      <th>is_govt_holiday</th>\n",
       "    </tr>\n",
       "  </thead>\n",
       "  <tbody>\n",
       "    <tr>\n",
       "      <th>0</th>\n",
       "      <td>2021-03-01</td>\n",
       "      <td>0</td>\n",
       "      <td>3</td>\n",
       "      <td>1</td>\n",
       "      <td>9</td>\n",
       "      <td>0</td>\n",
       "      <td>0</td>\n",
       "      <td>0</td>\n",
       "      <td>0</td>\n",
       "      <td>1</td>\n",
       "      <td>0</td>\n",
       "    </tr>\n",
       "    <tr>\n",
       "      <th>1</th>\n",
       "      <td>2021-03-01</td>\n",
       "      <td>1</td>\n",
       "      <td>3</td>\n",
       "      <td>1</td>\n",
       "      <td>9</td>\n",
       "      <td>0</td>\n",
       "      <td>0</td>\n",
       "      <td>0</td>\n",
       "      <td>0</td>\n",
       "      <td>1</td>\n",
       "      <td>0</td>\n",
       "    </tr>\n",
       "    <tr>\n",
       "      <th>2</th>\n",
       "      <td>2021-03-01</td>\n",
       "      <td>2</td>\n",
       "      <td>3</td>\n",
       "      <td>1</td>\n",
       "      <td>9</td>\n",
       "      <td>0</td>\n",
       "      <td>0</td>\n",
       "      <td>0</td>\n",
       "      <td>0</td>\n",
       "      <td>1</td>\n",
       "      <td>0</td>\n",
       "    </tr>\n",
       "    <tr>\n",
       "      <th>3</th>\n",
       "      <td>2021-03-01</td>\n",
       "      <td>3</td>\n",
       "      <td>3</td>\n",
       "      <td>1</td>\n",
       "      <td>9</td>\n",
       "      <td>0</td>\n",
       "      <td>0</td>\n",
       "      <td>0</td>\n",
       "      <td>0</td>\n",
       "      <td>1</td>\n",
       "      <td>0</td>\n",
       "    </tr>\n",
       "    <tr>\n",
       "      <th>4</th>\n",
       "      <td>2021-03-01</td>\n",
       "      <td>5</td>\n",
       "      <td>3</td>\n",
       "      <td>1</td>\n",
       "      <td>9</td>\n",
       "      <td>0</td>\n",
       "      <td>0</td>\n",
       "      <td>0</td>\n",
       "      <td>0</td>\n",
       "      <td>1</td>\n",
       "      <td>0</td>\n",
       "    </tr>\n",
       "    <tr>\n",
       "      <th>...</th>\n",
       "      <td>...</td>\n",
       "      <td>...</td>\n",
       "      <td>...</td>\n",
       "      <td>...</td>\n",
       "      <td>...</td>\n",
       "      <td>...</td>\n",
       "      <td>...</td>\n",
       "      <td>...</td>\n",
       "      <td>...</td>\n",
       "      <td>...</td>\n",
       "      <td>...</td>\n",
       "    </tr>\n",
       "    <tr>\n",
       "      <th>7645</th>\n",
       "      <td>2022-03-28</td>\n",
       "      <td>19</td>\n",
       "      <td>3</td>\n",
       "      <td>28</td>\n",
       "      <td>13</td>\n",
       "      <td>0</td>\n",
       "      <td>0</td>\n",
       "      <td>0</td>\n",
       "      <td>0</td>\n",
       "      <td>1</td>\n",
       "      <td>0</td>\n",
       "    </tr>\n",
       "    <tr>\n",
       "      <th>7646</th>\n",
       "      <td>2022-03-28</td>\n",
       "      <td>20</td>\n",
       "      <td>3</td>\n",
       "      <td>28</td>\n",
       "      <td>13</td>\n",
       "      <td>0</td>\n",
       "      <td>0</td>\n",
       "      <td>0</td>\n",
       "      <td>0</td>\n",
       "      <td>1</td>\n",
       "      <td>0</td>\n",
       "    </tr>\n",
       "    <tr>\n",
       "      <th>7647</th>\n",
       "      <td>2022-03-28</td>\n",
       "      <td>21</td>\n",
       "      <td>3</td>\n",
       "      <td>28</td>\n",
       "      <td>13</td>\n",
       "      <td>0</td>\n",
       "      <td>0</td>\n",
       "      <td>0</td>\n",
       "      <td>0</td>\n",
       "      <td>1</td>\n",
       "      <td>0</td>\n",
       "    </tr>\n",
       "    <tr>\n",
       "      <th>7648</th>\n",
       "      <td>2022-03-28</td>\n",
       "      <td>22</td>\n",
       "      <td>3</td>\n",
       "      <td>28</td>\n",
       "      <td>13</td>\n",
       "      <td>0</td>\n",
       "      <td>0</td>\n",
       "      <td>0</td>\n",
       "      <td>0</td>\n",
       "      <td>1</td>\n",
       "      <td>0</td>\n",
       "    </tr>\n",
       "    <tr>\n",
       "      <th>7649</th>\n",
       "      <td>2022-03-28</td>\n",
       "      <td>23</td>\n",
       "      <td>3</td>\n",
       "      <td>28</td>\n",
       "      <td>13</td>\n",
       "      <td>0</td>\n",
       "      <td>0</td>\n",
       "      <td>0</td>\n",
       "      <td>0</td>\n",
       "      <td>1</td>\n",
       "      <td>0</td>\n",
       "    </tr>\n",
       "  </tbody>\n",
       "</table>\n",
       "<p>7650 rows × 11 columns</p>\n",
       "</div>"
      ],
      "text/plain": [
       "           date  hour  month  day  weekofyear  day_of_week  is_weekend  \\\n",
       "0    2021-03-01     0      3    1           9            0           0   \n",
       "1    2021-03-01     1      3    1           9            0           0   \n",
       "2    2021-03-01     2      3    1           9            0           0   \n",
       "3    2021-03-01     3      3    1           9            0           0   \n",
       "4    2021-03-01     5      3    1           9            0           0   \n",
       "...         ...   ...    ...  ...         ...          ...         ...   \n",
       "7645 2022-03-28    19      3   28          13            0           0   \n",
       "7646 2022-03-28    20      3   28          13            0           0   \n",
       "7647 2022-03-28    21      3   28          13            0           0   \n",
       "7648 2022-03-28    22      3   28          13            0           0   \n",
       "7649 2022-03-28    23      3   28          13            0           0   \n",
       "\n",
       "      post_weekend  pre_weekend  quarter  is_govt_holiday  \n",
       "0                0            0        1                0  \n",
       "1                0            0        1                0  \n",
       "2                0            0        1                0  \n",
       "3                0            0        1                0  \n",
       "4                0            0        1                0  \n",
       "...            ...          ...      ...              ...  \n",
       "7645             0            0        1                0  \n",
       "7646             0            0        1                0  \n",
       "7647             0            0        1                0  \n",
       "7648             0            0        1                0  \n",
       "7649             0            0        1                0  \n",
       "\n",
       "[7650 rows x 11 columns]"
      ]
     },
     "execution_count": 21,
     "metadata": {},
     "output_type": "execute_result"
    }
   ],
   "source": [
    "test"
   ]
  },
  {
   "cell_type": "markdown",
   "id": "a8a1af16-a7dc-4a6c-ad97-d65dcd55c4ff",
   "metadata": {},
   "source": [
    "### Exploratory Data Analysis"
   ]
  },
  {
   "cell_type": "markdown",
   "id": "8fc5cf3f-f9b7-4f40-b0af-9a1a4cad5af3",
   "metadata": {},
   "source": [
    "#### hour "
   ]
  },
  {
   "cell_type": "code",
   "execution_count": 22,
   "id": "2b9aa58f-8b53-4353-bcbb-dd209409b3c1",
   "metadata": {},
   "outputs": [
    {
     "data": {
      "text/plain": [
       "count    18247.000000\n",
       "mean        12.614731\n",
       "std          6.544963\n",
       "min          0.000000\n",
       "25%          8.000000\n",
       "50%         13.000000\n",
       "75%         18.000000\n",
       "max         23.000000\n",
       "Name: hour, dtype: float64"
      ]
     },
     "execution_count": 22,
     "metadata": {},
     "output_type": "execute_result"
    }
   ],
   "source": [
    "train['hour'].describe()"
   ]
  },
  {
   "cell_type": "code",
   "execution_count": 23,
   "id": "490fe7ea-015e-4a1e-a917-c1c737256ba1",
   "metadata": {},
   "outputs": [
    {
     "data": {
      "text/plain": [
       "Text(0.5, 1.0, 'Test - hour')"
      ]
     },
     "execution_count": 23,
     "metadata": {},
     "output_type": "execute_result"
    },
    {
     "data": {
      "image/png": "[encoded data removed]",
      "text/plain": [
       "<Figure size 720x288 with 2 Axes>"
      ]
     },
     "metadata": {
      "needs_background": "light"
     },
     "output_type": "display_data"
    }
   ],
   "source": [
    "plt.figure(figsize=(10,4))\n",
    "plt.subplot(121)\n",
    "sns.histplot(train['hour'])\n",
    "plt.title('Train - hour')\n",
    "plt.subplot(122)\n",
    "sns.histplot(test['hour'])\n",
    "plt.title('Test - hour')"
   ]
  },
  {
   "cell_type": "code",
   "execution_count": 24,
   "id": "934b2f7d-f555-4e50-a22d-b96d02d33e00",
   "metadata": {},
   "outputs": [
    {
     "data": {
      "text/plain": [
       "<matplotlib.lines.Line2D at 0x29f97122f08>"
      ]
     },
     "execution_count": 24,
     "metadata": {},
     "output_type": "execute_result"
    },
    {
     "data": {
      "image/png": "[encoded data removed]",
      "text/plain": [
       "<Figure size 432x288 with 1 Axes>"
      ]
     },
     "metadata": {
      "needs_background": "light"
     },
     "output_type": "display_data"
    }
   ],
   "source": [
    "g = sns.scatterplot(x='hour', y='demand', data=train)\n",
    "plt.axhline(train['demand'].mean())"
   ]
  },
  {
   "cell_type": "markdown",
   "id": "39dda8b2-2876-403a-8f27-687d1025eb43",
   "metadata": {},
   "source": [
    "different hour slots has varying car demand. we can confirm that hour has an impact on car demand"
   ]
  },
  {
   "cell_type": "code",
   "execution_count": 25,
   "id": "8a8ad7a9-fe02-456f-add0-186df9131a81",
   "metadata": {},
   "outputs": [],
   "source": [
    "#creating function to identify time of day: morning, afternoon, evening, night, etc.\n",
    "def get_time_slot(hour):\n",
    "    if hour in range(4,8):\n",
    "        return 'Early Morning'\n",
    "    elif hour in range(8,12):\n",
    "        return 'Morning'\n",
    "    elif hour in range(12,18):\n",
    "        return 'Afternoon'\n",
    "    elif hour in range(18,21):\n",
    "        return 'Evening'\n",
    "    elif hour in range(21,25) or hour==0:\n",
    "        return 'Night'\n",
    "    elif hour in range(1,4):\n",
    "        return 'Late Night'"
   ]
  },
  {
   "cell_type": "code",
   "execution_count": 26,
   "id": "4dc433a2-1e1a-4ee5-879d-e000d1015ac5",
   "metadata": {},
   "outputs": [],
   "source": [
    "train['timeSlot'] = train['hour'].apply(get_time_slot)\n",
    "test['timeSlot'] = test['hour'].apply(get_time_slot)"
   ]
  },
  {
   "cell_type": "code",
   "execution_count": 27,
   "id": "ef7cb0c8-9c40-46c3-b9d2-1f8938a12845",
   "metadata": {},
   "outputs": [
    {
     "data": {
      "text/plain": [
       "<matplotlib.lines.Line2D at 0x29f97240f48>"
      ]
     },
     "execution_count": 27,
     "metadata": {},
     "output_type": "execute_result"
    },
    {
     "data": {
      "image/png": "[encoded data removed]",
      "text/plain": [
       "<Figure size 432x288 with 1 Axes>"
      ]
     },
     "metadata": {
      "needs_background": "light"
     },
     "output_type": "display_data"
    }
   ],
   "source": [
    "sns.boxplot(x='timeSlot', y='demand', data=train)#, order=['dawn', 'morning', 'noon', 'afternoon', 'evening', 'midnight'])\n",
    "plt.axhline(train['demand'].mean())"
   ]
  },
  {
   "cell_type": "markdown",
   "id": "71f7bb5f-5c5f-4908-988d-8dff47f88a74",
   "metadata": {},
   "source": [
    "Morning, Afternoon and evening time slots has highest demand for cars"
   ]
  },
  {
   "cell_type": "markdown",
   "id": "5f5bb817-0bd6-4d4c-a3bc-a0d1fd88a0b1",
   "metadata": {},
   "source": [
    "### month"
   ]
  },
  {
   "cell_type": "code",
   "execution_count": 28,
   "id": "19b2b109-2bf5-4253-9045-a9bb55fc4f44",
   "metadata": {},
   "outputs": [
    {
     "data": {
      "text/plain": [
       "Text(0.5, 1.0, 'Test - month')"
      ]
     },
     "execution_count": 28,
     "metadata": {},
     "output_type": "execute_result"
    },
    {
     "data": {
      "image/png": "[encoded data removed]",
      "text/plain": [
       "<Figure size 720x288 with 2 Axes>"
      ]
     },
     "metadata": {
      "needs_background": "light"
     },
     "output_type": "display_data"
    }
   ],
   "source": [
    "plt.figure(figsize=(10,4))\n",
    "plt.subplot(121)\n",
    "sns.histplot(train['month'])\n",
    "plt.title('Train - month')\n",
    "plt.subplot(122)\n",
    "sns.histplot(test['month'])\n",
    "plt.title('Test - month')"
   ]
  },
  {
   "cell_type": "code",
   "execution_count": 29,
   "id": "7f488816-5d94-446b-8f91-60b59adc329b",
   "metadata": {},
   "outputs": [
    {
     "data": {
      "text/plain": [
       "<matplotlib.lines.Line2D at 0x29f97376288>"
      ]
     },
     "execution_count": 29,
     "metadata": {},
     "output_type": "execute_result"
    },
    {
     "data": {
      "image/png": "[encoded data removed]",
      "text/plain": [
       "<Figure size 432x288 with 1 Axes>"
      ]
     },
     "metadata": {
      "needs_background": "light"
     },
     "output_type": "display_data"
    }
   ],
   "source": [
    "g = sns.scatterplot(x='month', y='demand', data=train)\n",
    "plt.axhline(train['demand'].mean())"
   ]
  },
  {
   "cell_type": "code",
   "execution_count": 30,
   "id": "a9a6792e-9d5e-4e8f-93b6-d8fb63d21639",
   "metadata": {},
   "outputs": [
    {
     "data": {
      "text/plain": [
       "<matplotlib.lines.Line2D at 0x29f97447408>"
      ]
     },
     "execution_count": 30,
     "metadata": {},
     "output_type": "execute_result"
    },
    {
     "data": {
      "image/png": "[encoded data removed]",
      "text/plain": [
       "<Figure size 432x288 with 1 Axes>"
      ]
     },
     "metadata": {
      "needs_background": "light"
     },
     "output_type": "display_data"
    }
   ],
   "source": [
    "g = sns.boxplot(x='month', y='demand', data=train)\n",
    "plt.axhline(train['demand'].mean())"
   ]
  },
  {
   "cell_type": "markdown",
   "id": "3b6f435e-0fe1-499d-a4d6-dbb239c67ed8",
   "metadata": {},
   "source": [
    "month 6 and 11 has higher median compared to other months"
   ]
  },
  {
   "cell_type": "code",
   "execution_count": 31,
   "id": "955386b7-2641-4030-aec4-9ff2fdf0b366",
   "metadata": {},
   "outputs": [],
   "source": [
    "train['Highest_demand_months'] = train['month'].isin([6,11]).astype(int)\n",
    "test['Highest_demand_months'] = test['month'].isin([6,11]).astype(int)"
   ]
  },
  {
   "cell_type": "markdown",
   "id": "be26a1e3-4f06-4650-ae86-7a801f9caafd",
   "metadata": {},
   "source": [
    "### day"
   ]
  },
  {
   "cell_type": "code",
   "execution_count": 32,
   "id": "9bb660aa-9d48-4668-92bb-248011d1812a",
   "metadata": {},
   "outputs": [
    {
     "data": {
      "text/plain": [
       "Text(0.5, 1.0, 'Test - day')"
      ]
     },
     "execution_count": 32,
     "metadata": {},
     "output_type": "execute_result"
    },
    {
     "data": {
      "image/png": "[encoded data removed]",
      "text/plain": [
       "<Figure size 720x288 with 2 Axes>"
      ]
     },
     "metadata": {
      "needs_background": "light"
     },
     "output_type": "display_data"
    }
   ],
   "source": [
    "plt.figure(figsize=(10,4))\n",
    "plt.subplot(121)\n",
    "sns.histplot(train['day'])\n",
    "plt.title('Train - day')\n",
    "plt.subplot(122)\n",
    "sns.histplot(test['day'])\n",
    "plt.title('Test - day')"
   ]
  },
  {
   "cell_type": "code",
   "execution_count": 33,
   "id": "d96fb5f9-bb17-4c73-b769-d05c0198e280",
   "metadata": {},
   "outputs": [
    {
     "data": {
      "text/plain": [
       "<matplotlib.lines.Line2D at 0x29f9896adc8>"
      ]
     },
     "execution_count": 33,
     "metadata": {},
     "output_type": "execute_result"
    },
    {
     "data": {
      "image/png": "[encoded data removed]",
      "text/plain": [
       "<Figure size 432x288 with 1 Axes>"
      ]
     },
     "metadata": {
      "needs_background": "light"
     },
     "output_type": "display_data"
    }
   ],
   "source": [
    "sns.boxplot(x='day', y='demand', data=train)\n",
    "plt.axhline(train['demand'].mean())"
   ]
  },
  {
   "cell_type": "markdown",
   "id": "62d3ff7a-a8e5-4fbc-a24f-2171942fc9b3",
   "metadata": {},
   "source": [
    "### day_of_week"
   ]
  },
  {
   "cell_type": "code",
   "execution_count": 34,
   "id": "fdf8f7af-3311-4d4d-8add-61f2a90b9556",
   "metadata": {},
   "outputs": [
    {
     "data": {
      "text/plain": [
       "<matplotlib.lines.Line2D at 0x29f98a93b48>"
      ]
     },
     "execution_count": 34,
     "metadata": {},
     "output_type": "execute_result"
    },
    {
     "data": {
      "image/png": "[encoded data removed]",
      "text/plain": [
       "<Figure size 720x288 with 1 Axes>"
      ]
     },
     "metadata": {
      "needs_background": "light"
     },
     "output_type": "display_data"
    }
   ],
   "source": [
    "plt.figure(figsize=(10,4))\n",
    "sns.boxplot(x='day_of_week', y='demand', data=train)\n",
    "plt.axhline(train['demand'].mean())"
   ]
  },
  {
   "cell_type": "markdown",
   "id": "ce54a3c4-4bc7-4a3f-8aa5-56c3af1fbf27",
   "metadata": {},
   "source": [
    "weekend has highest demand for cars "
   ]
  },
  {
   "cell_type": "code",
   "execution_count": 35,
   "id": "c9700b88-694f-47ce-a558-3608268b7e6f",
   "metadata": {},
   "outputs": [
    {
     "data": {
      "text/plain": [
       "<matplotlib.lines.Line2D at 0x29f98b82ac8>"
      ]
     },
     "execution_count": 35,
     "metadata": {},
     "output_type": "execute_result"
    },
    {
     "data": {
      "image/png": "[encoded data removed]",
      "text/plain": [
       "<Figure size 432x288 with 1 Axes>"
      ]
     },
     "metadata": {
      "needs_background": "light"
     },
     "output_type": "display_data"
    }
   ],
   "source": [
    "sns.boxplot(x='is_weekend', y='demand', data=train)\n",
    "plt.axhline(train['demand'].mean())"
   ]
  },
  {
   "cell_type": "markdown",
   "id": "c5307951-6ca1-4ed3-ae43-47a4e5215edb",
   "metadata": {},
   "source": [
    "### quarter"
   ]
  },
  {
   "cell_type": "code",
   "execution_count": 36,
   "id": "fc96d419-41ae-4236-bb81-32332bc8aace",
   "metadata": {},
   "outputs": [
    {
     "data": {
      "text/plain": [
       "<matplotlib.lines.Line2D at 0x29f98c7e608>"
      ]
     },
     "execution_count": 36,
     "metadata": {},
     "output_type": "execute_result"
    },
    {
     "data": {
      "image/png": "[encoded data removed]",
      "text/plain": [
       "<Figure size 432x288 with 1 Axes>"
      ]
     },
     "metadata": {
      "needs_background": "light"
     },
     "output_type": "display_data"
    }
   ],
   "source": [
    "sns.boxplot(x='quarter', y='demand', data=train)\n",
    "plt.axhline(train['demand'].mean())"
   ]
  },
  {
   "cell_type": "code",
   "execution_count": 37,
   "id": "f97c3838-6839-4290-abb5-27f26d092777",
   "metadata": {},
   "outputs": [],
   "source": [
    "# creating function to convert month to seasons\n",
    "def get_season(month):\n",
    "    if month in [9, 10, 11]:\n",
    "        season = 'Spring'\n",
    "    elif month in [12, 1, 2]:\n",
    "        season = 'Summer'\n",
    "    elif month in [3, 4, 5]:\n",
    "        season = 'Autumn'\n",
    "    elif month in [6, 7, 8]:\n",
    "        season = 'Winter'\n",
    "    return season"
   ]
  },
  {
   "cell_type": "code",
   "execution_count": 38,
   "id": "204b759b-80e6-43ba-97f5-5df94d10e7f2",
   "metadata": {},
   "outputs": [],
   "source": [
    "train['season'] = train['month'].apply(get_season)\n",
    "test['season'] = test['month'].apply(get_season)"
   ]
  },
  {
   "cell_type": "code",
   "execution_count": 39,
   "id": "3e7a22e0-9ef1-46ac-abf0-cb4e09652b39",
   "metadata": {},
   "outputs": [],
   "source": [
    "# encode the categorical features timeSlot & season\n",
    "train['timeSlot'].replace({'Afternoon': 0, 'Morning' : 1, 'Night':2, 'Evening':3, 'Early Morning':4, 'Late Night':5}, \n",
    "                          inplace=True)\n",
    "train['season'].replace({'Spring':0, 'Summer':1, 'Autumn':2, 'Winter':3}, inplace=True)"
   ]
  },
  {
   "cell_type": "code",
   "execution_count": 40,
   "id": "220e1cd5-1c8f-4d9a-b34e-b33358b5c4ca",
   "metadata": {},
   "outputs": [],
   "source": [
    "# encode the categorical features timeSlot & season\n",
    "test['timeSlot'].replace({'Afternoon': 0, 'Morning' : 1, 'Night':2, 'Evening':3, 'Early Morning':4, 'Late Night':5}, \n",
    "                          inplace=True)\n",
    "test['season'].replace({'Spring':0, 'Summer':1, 'Autumn':2, 'Winter':3}, inplace=True)"
   ]
  },
  {
   "cell_type": "code",
   "execution_count": 41,
   "id": "04da3da5-ba88-4f56-bc44-99add7fac1ff",
   "metadata": {},
   "outputs": [
    {
     "data": {
      "text/plain": [
       "<matplotlib.lines.Line2D at 0x29f98d00f48>"
      ]
     },
     "execution_count": 41,
     "metadata": {},
     "output_type": "execute_result"
    },
    {
     "data": {
      "image/png": "[encoded data removed]",
      "text/plain": [
       "<Figure size 432x288 with 1 Axes>"
      ]
     },
     "metadata": {
      "needs_background": "light"
     },
     "output_type": "display_data"
    }
   ],
   "source": [
    "sns.boxplot(x='season', y='demand', data=train)\n",
    "plt.axhline(train['demand'].mean())"
   ]
  },
  {
   "cell_type": "markdown",
   "id": "779d6b41-079b-422b-8833-887d42dd5dce",
   "metadata": {},
   "source": [
    "#### Cyclic features"
   ]
  },
  {
   "cell_type": "code",
   "execution_count": 42,
   "id": "a9fa0dfa-1107-4ccb-9bb0-0a57f3280a08",
   "metadata": {},
   "outputs": [],
   "source": [
    "def encode_cyclic_feature(data, col, max_val):\n",
    "    data[col + '_sin'] = np.sin(2 * np.pi * data[col]/max_val)\n",
    "    data[col + '_cos'] = np.cos(2 * np.pi * data[col]/max_val)\n",
    "    return data"
   ]
  },
  {
   "cell_type": "code",
   "execution_count": 43,
   "id": "9b1d3f20-d25b-47ec-b732-daf49bb55c4a",
   "metadata": {},
   "outputs": [],
   "source": [
    "# Feature engineering of hour of month like cyclical feature & days in week feature\n",
    "train = encode_cyclic_feature(train, 'hour', 24)\n",
    "train = encode_cyclic_feature(train, 'month', 12)\n",
    "train = encode_cyclic_feature(train, 'day_of_week', 7)\n",
    "\n",
    "test = encode_cyclic_feature(test, 'hour', 24)\n",
    "test = encode_cyclic_feature(test, 'month', 12)\n",
    "test = encode_cyclic_feature(test, 'day_of_week', 7)"
   ]
  },
  {
   "cell_type": "code",
   "execution_count": 44,
   "id": "b47936da-7172-4a79-aaed-32968241320c",
   "metadata": {},
   "outputs": [
    {
     "data": {
      "text/html": [
       "<div>\n",
       "<style scoped>\n",
       "    .dataframe tbody tr th:only-of-type {\n",
       "        vertical-align: middle;\n",
       "    }\n",
       "\n",
       "    .dataframe tbody tr th {\n",
       "        vertical-align: top;\n",
       "    }\n",
       "\n",
       "    .dataframe thead th {\n",
       "        text-align: right;\n",
       "    }\n",
       "</style>\n",
       "<table border=\"1\" class=\"dataframe\">\n",
       "  <thead>\n",
       "    <tr style=\"text-align: right;\">\n",
       "      <th></th>\n",
       "      <th>date</th>\n",
       "      <th>hour</th>\n",
       "      <th>demand</th>\n",
       "      <th>month</th>\n",
       "      <th>day</th>\n",
       "      <th>weekofyear</th>\n",
       "      <th>day_of_week</th>\n",
       "      <th>is_weekend</th>\n",
       "      <th>post_weekend</th>\n",
       "      <th>pre_weekend</th>\n",
       "      <th>...</th>\n",
       "      <th>is_govt_holiday</th>\n",
       "      <th>timeSlot</th>\n",
       "      <th>Highest_demand_months</th>\n",
       "      <th>season</th>\n",
       "      <th>hour_sin</th>\n",
       "      <th>hour_cos</th>\n",
       "      <th>month_sin</th>\n",
       "      <th>month_cos</th>\n",
       "      <th>day_of_week_sin</th>\n",
       "      <th>day_of_week_cos</th>\n",
       "    </tr>\n",
       "  </thead>\n",
       "  <tbody>\n",
       "    <tr>\n",
       "      <th>0</th>\n",
       "      <td>2018-08-18</td>\n",
       "      <td>9</td>\n",
       "      <td>91</td>\n",
       "      <td>8</td>\n",
       "      <td>18</td>\n",
       "      <td>33</td>\n",
       "      <td>5</td>\n",
       "      <td>1</td>\n",
       "      <td>0</td>\n",
       "      <td>0</td>\n",
       "      <td>...</td>\n",
       "      <td>0</td>\n",
       "      <td>1</td>\n",
       "      <td>0</td>\n",
       "      <td>3</td>\n",
       "      <td>0.707107</td>\n",
       "      <td>-0.707107</td>\n",
       "      <td>-0.866025</td>\n",
       "      <td>-0.5</td>\n",
       "      <td>-0.974928</td>\n",
       "      <td>-0.222521</td>\n",
       "    </tr>\n",
       "    <tr>\n",
       "      <th>1</th>\n",
       "      <td>2018-08-18</td>\n",
       "      <td>10</td>\n",
       "      <td>21</td>\n",
       "      <td>8</td>\n",
       "      <td>18</td>\n",
       "      <td>33</td>\n",
       "      <td>5</td>\n",
       "      <td>1</td>\n",
       "      <td>0</td>\n",
       "      <td>0</td>\n",
       "      <td>...</td>\n",
       "      <td>0</td>\n",
       "      <td>1</td>\n",
       "      <td>0</td>\n",
       "      <td>3</td>\n",
       "      <td>0.500000</td>\n",
       "      <td>-0.866025</td>\n",
       "      <td>-0.866025</td>\n",
       "      <td>-0.5</td>\n",
       "      <td>-0.974928</td>\n",
       "      <td>-0.222521</td>\n",
       "    </tr>\n",
       "    <tr>\n",
       "      <th>2</th>\n",
       "      <td>2018-08-18</td>\n",
       "      <td>13</td>\n",
       "      <td>23</td>\n",
       "      <td>8</td>\n",
       "      <td>18</td>\n",
       "      <td>33</td>\n",
       "      <td>5</td>\n",
       "      <td>1</td>\n",
       "      <td>0</td>\n",
       "      <td>0</td>\n",
       "      <td>...</td>\n",
       "      <td>0</td>\n",
       "      <td>0</td>\n",
       "      <td>0</td>\n",
       "      <td>3</td>\n",
       "      <td>-0.258819</td>\n",
       "      <td>-0.965926</td>\n",
       "      <td>-0.866025</td>\n",
       "      <td>-0.5</td>\n",
       "      <td>-0.974928</td>\n",
       "      <td>-0.222521</td>\n",
       "    </tr>\n",
       "    <tr>\n",
       "      <th>3</th>\n",
       "      <td>2018-08-18</td>\n",
       "      <td>14</td>\n",
       "      <td>104</td>\n",
       "      <td>8</td>\n",
       "      <td>18</td>\n",
       "      <td>33</td>\n",
       "      <td>5</td>\n",
       "      <td>1</td>\n",
       "      <td>0</td>\n",
       "      <td>0</td>\n",
       "      <td>...</td>\n",
       "      <td>0</td>\n",
       "      <td>0</td>\n",
       "      <td>0</td>\n",
       "      <td>3</td>\n",
       "      <td>-0.500000</td>\n",
       "      <td>-0.866025</td>\n",
       "      <td>-0.866025</td>\n",
       "      <td>-0.5</td>\n",
       "      <td>-0.974928</td>\n",
       "      <td>-0.222521</td>\n",
       "    </tr>\n",
       "    <tr>\n",
       "      <th>4</th>\n",
       "      <td>2018-08-18</td>\n",
       "      <td>15</td>\n",
       "      <td>81</td>\n",
       "      <td>8</td>\n",
       "      <td>18</td>\n",
       "      <td>33</td>\n",
       "      <td>5</td>\n",
       "      <td>1</td>\n",
       "      <td>0</td>\n",
       "      <td>0</td>\n",
       "      <td>...</td>\n",
       "      <td>0</td>\n",
       "      <td>0</td>\n",
       "      <td>0</td>\n",
       "      <td>3</td>\n",
       "      <td>-0.707107</td>\n",
       "      <td>-0.707107</td>\n",
       "      <td>-0.866025</td>\n",
       "      <td>-0.5</td>\n",
       "      <td>-0.974928</td>\n",
       "      <td>-0.222521</td>\n",
       "    </tr>\n",
       "  </tbody>\n",
       "</table>\n",
       "<p>5 rows × 21 columns</p>\n",
       "</div>"
      ],
      "text/plain": [
       "        date  hour  demand  month  day  weekofyear  day_of_week  is_weekend  \\\n",
       "0 2018-08-18     9      91      8   18          33            5           1   \n",
       "1 2018-08-18    10      21      8   18          33            5           1   \n",
       "2 2018-08-18    13      23      8   18          33            5           1   \n",
       "3 2018-08-18    14     104      8   18          33            5           1   \n",
       "4 2018-08-18    15      81      8   18          33            5           1   \n",
       "\n",
       "   post_weekend  pre_weekend  ...  is_govt_holiday  timeSlot  \\\n",
       "0             0            0  ...                0         1   \n",
       "1             0            0  ...                0         1   \n",
       "2             0            0  ...                0         0   \n",
       "3             0            0  ...                0         0   \n",
       "4             0            0  ...                0         0   \n",
       "\n",
       "   Highest_demand_months  season  hour_sin  hour_cos  month_sin  month_cos  \\\n",
       "0                      0       3  0.707107 -0.707107  -0.866025       -0.5   \n",
       "1                      0       3  0.500000 -0.866025  -0.866025       -0.5   \n",
       "2                      0       3 -0.258819 -0.965926  -0.866025       -0.5   \n",
       "3                      0       3 -0.500000 -0.866025  -0.866025       -0.5   \n",
       "4                      0       3 -0.707107 -0.707107  -0.866025       -0.5   \n",
       "\n",
       "   day_of_week_sin  day_of_week_cos  \n",
       "0        -0.974928        -0.222521  \n",
       "1        -0.974928        -0.222521  \n",
       "2        -0.974928        -0.222521  \n",
       "3        -0.974928        -0.222521  \n",
       "4        -0.974928        -0.222521  \n",
       "\n",
       "[5 rows x 21 columns]"
      ]
     },
     "execution_count": 44,
     "metadata": {},
     "output_type": "execute_result"
    }
   ],
   "source": [
    "train.head()"
   ]
  },
  {
   "cell_type": "code",
   "execution_count": 45,
   "id": "64d8e6f7-4c1c-48ed-8788-1a299d6e90de",
   "metadata": {},
   "outputs": [
    {
     "data": {
      "text/html": [
       "<div>\n",
       "<style scoped>\n",
       "    .dataframe tbody tr th:only-of-type {\n",
       "        vertical-align: middle;\n",
       "    }\n",
       "\n",
       "    .dataframe tbody tr th {\n",
       "        vertical-align: top;\n",
       "    }\n",
       "\n",
       "    .dataframe thead th {\n",
       "        text-align: right;\n",
       "    }\n",
       "</style>\n",
       "<table border=\"1\" class=\"dataframe\">\n",
       "  <thead>\n",
       "    <tr style=\"text-align: right;\">\n",
       "      <th></th>\n",
       "      <th>VIF</th>\n",
       "      <th>Columns</th>\n",
       "    </tr>\n",
       "  </thead>\n",
       "  <tbody>\n",
       "    <tr>\n",
       "      <th>1</th>\n",
       "      <td>131.313140</td>\n",
       "      <td>month</td>\n",
       "    </tr>\n",
       "    <tr>\n",
       "      <th>8</th>\n",
       "      <td>112.815926</td>\n",
       "      <td>quarter</td>\n",
       "    </tr>\n",
       "    <tr>\n",
       "      <th>3</th>\n",
       "      <td>52.999201</td>\n",
       "      <td>weekofyear</td>\n",
       "    </tr>\n",
       "    <tr>\n",
       "      <th>4</th>\n",
       "      <td>47.884590</td>\n",
       "      <td>day_of_week</td>\n",
       "    </tr>\n",
       "    <tr>\n",
       "      <th>5</th>\n",
       "      <td>47.098481</td>\n",
       "      <td>is_weekend</td>\n",
       "    </tr>\n",
       "    <tr>\n",
       "      <th>17</th>\n",
       "      <td>11.708347</td>\n",
       "      <td>day_of_week_sin</td>\n",
       "    </tr>\n",
       "    <tr>\n",
       "      <th>0</th>\n",
       "      <td>9.159160</td>\n",
       "      <td>hour</td>\n",
       "    </tr>\n",
       "    <tr>\n",
       "      <th>7</th>\n",
       "      <td>8.927219</td>\n",
       "      <td>pre_weekend</td>\n",
       "    </tr>\n",
       "    <tr>\n",
       "      <th>12</th>\n",
       "      <td>6.774121</td>\n",
       "      <td>season</td>\n",
       "    </tr>\n",
       "    <tr>\n",
       "      <th>10</th>\n",
       "      <td>5.771484</td>\n",
       "      <td>timeSlot</td>\n",
       "    </tr>\n",
       "    <tr>\n",
       "      <th>2</th>\n",
       "      <td>4.133746</td>\n",
       "      <td>day</td>\n",
       "    </tr>\n",
       "    <tr>\n",
       "      <th>18</th>\n",
       "      <td>3.227160</td>\n",
       "      <td>day_of_week_cos</td>\n",
       "    </tr>\n",
       "    <tr>\n",
       "      <th>16</th>\n",
       "      <td>2.933716</td>\n",
       "      <td>month_cos</td>\n",
       "    </tr>\n",
       "    <tr>\n",
       "      <th>15</th>\n",
       "      <td>2.868093</td>\n",
       "      <td>month_sin</td>\n",
       "    </tr>\n",
       "    <tr>\n",
       "      <th>13</th>\n",
       "      <td>2.725486</td>\n",
       "      <td>hour_sin</td>\n",
       "    </tr>\n",
       "    <tr>\n",
       "      <th>14</th>\n",
       "      <td>2.408888</td>\n",
       "      <td>hour_cos</td>\n",
       "    </tr>\n",
       "    <tr>\n",
       "      <th>6</th>\n",
       "      <td>2.158622</td>\n",
       "      <td>post_weekend</td>\n",
       "    </tr>\n",
       "    <tr>\n",
       "      <th>11</th>\n",
       "      <td>1.401352</td>\n",
       "      <td>Highest_demand_months</td>\n",
       "    </tr>\n",
       "    <tr>\n",
       "      <th>9</th>\n",
       "      <td>1.043616</td>\n",
       "      <td>is_govt_holiday</td>\n",
       "    </tr>\n",
       "  </tbody>\n",
       "</table>\n",
       "</div>"
      ],
      "text/plain": [
       "           VIF                Columns\n",
       "1   131.313140                  month\n",
       "8   112.815926                quarter\n",
       "3    52.999201             weekofyear\n",
       "4    47.884590            day_of_week\n",
       "5    47.098481             is_weekend\n",
       "17   11.708347        day_of_week_sin\n",
       "0     9.159160                   hour\n",
       "7     8.927219            pre_weekend\n",
       "12    6.774121                 season\n",
       "10    5.771484               timeSlot\n",
       "2     4.133746                    day\n",
       "18    3.227160        day_of_week_cos\n",
       "16    2.933716              month_cos\n",
       "15    2.868093              month_sin\n",
       "13    2.725486               hour_sin\n",
       "14    2.408888               hour_cos\n",
       "6     2.158622           post_weekend\n",
       "11    1.401352  Highest_demand_months\n",
       "9     1.043616        is_govt_holiday"
      ]
     },
     "execution_count": 45,
     "metadata": {},
     "output_type": "execute_result"
    }
   ],
   "source": [
    "X = train.drop(['date', 'demand'], axis=1)\n",
    "X = X.astype(float)\n",
    "vif_info = pd.DataFrame()\n",
    "vif_info['VIF'] = [variance_inflation_factor(X.values, i) for i in range(X.shape[1])]\n",
    "vif_info['Columns'] = X.columns\n",
    "vif_info.sort_values('VIF', ascending=False)"
   ]
  },
  {
   "cell_type": "code",
   "execution_count": 46,
   "id": "68e06238-3c2b-459e-8bc4-50caffc22daf",
   "metadata": {},
   "outputs": [],
   "source": [
    "# drop highly collinear features\n",
    "X.drop(['month', 'quarter', 'weekofyear', 'hour', 'day_of_week', 'is_weekend'], axis=1, inplace=True)"
   ]
  },
  {
   "cell_type": "code",
   "execution_count": 47,
   "id": "b99b3b52-801e-444b-b35d-dec1ae7e4f5c",
   "metadata": {},
   "outputs": [
    {
     "data": {
      "text/html": [
       "<div>\n",
       "<style scoped>\n",
       "    .dataframe tbody tr th:only-of-type {\n",
       "        vertical-align: middle;\n",
       "    }\n",
       "\n",
       "    .dataframe tbody tr th {\n",
       "        vertical-align: top;\n",
       "    }\n",
       "\n",
       "    .dataframe thead th {\n",
       "        text-align: right;\n",
       "    }\n",
       "</style>\n",
       "<table border=\"1\" class=\"dataframe\">\n",
       "  <thead>\n",
       "    <tr style=\"text-align: right;\">\n",
       "      <th></th>\n",
       "      <th>VIF</th>\n",
       "      <th>Columns</th>\n",
       "    </tr>\n",
       "  </thead>\n",
       "  <tbody>\n",
       "    <tr>\n",
       "      <th>6</th>\n",
       "      <td>5.013143</td>\n",
       "      <td>season</td>\n",
       "    </tr>\n",
       "    <tr>\n",
       "      <th>4</th>\n",
       "      <td>4.442614</td>\n",
       "      <td>timeSlot</td>\n",
       "    </tr>\n",
       "    <tr>\n",
       "      <th>0</th>\n",
       "      <td>3.399152</td>\n",
       "      <td>day</td>\n",
       "    </tr>\n",
       "    <tr>\n",
       "      <th>10</th>\n",
       "      <td>2.226051</td>\n",
       "      <td>month_cos</td>\n",
       "    </tr>\n",
       "    <tr>\n",
       "      <th>8</th>\n",
       "      <td>2.039866</td>\n",
       "      <td>hour_cos</td>\n",
       "    </tr>\n",
       "    <tr>\n",
       "      <th>2</th>\n",
       "      <td>1.822059</td>\n",
       "      <td>pre_weekend</td>\n",
       "    </tr>\n",
       "    <tr>\n",
       "      <th>1</th>\n",
       "      <td>1.795377</td>\n",
       "      <td>post_weekend</td>\n",
       "    </tr>\n",
       "    <tr>\n",
       "      <th>12</th>\n",
       "      <td>1.752162</td>\n",
       "      <td>day_of_week_cos</td>\n",
       "    </tr>\n",
       "    <tr>\n",
       "      <th>11</th>\n",
       "      <td>1.485357</td>\n",
       "      <td>day_of_week_sin</td>\n",
       "    </tr>\n",
       "    <tr>\n",
       "      <th>7</th>\n",
       "      <td>1.353826</td>\n",
       "      <td>hour_sin</td>\n",
       "    </tr>\n",
       "    <tr>\n",
       "      <th>5</th>\n",
       "      <td>1.227649</td>\n",
       "      <td>Highest_demand_months</td>\n",
       "    </tr>\n",
       "    <tr>\n",
       "      <th>9</th>\n",
       "      <td>1.188684</td>\n",
       "      <td>month_sin</td>\n",
       "    </tr>\n",
       "    <tr>\n",
       "      <th>3</th>\n",
       "      <td>1.038987</td>\n",
       "      <td>is_govt_holiday</td>\n",
       "    </tr>\n",
       "  </tbody>\n",
       "</table>\n",
       "</div>"
      ],
      "text/plain": [
       "         VIF                Columns\n",
       "6   5.013143                 season\n",
       "4   4.442614               timeSlot\n",
       "0   3.399152                    day\n",
       "10  2.226051              month_cos\n",
       "8   2.039866               hour_cos\n",
       "2   1.822059            pre_weekend\n",
       "1   1.795377           post_weekend\n",
       "12  1.752162        day_of_week_cos\n",
       "11  1.485357        day_of_week_sin\n",
       "7   1.353826               hour_sin\n",
       "5   1.227649  Highest_demand_months\n",
       "9   1.188684              month_sin\n",
       "3   1.038987        is_govt_holiday"
      ]
     },
     "execution_count": 47,
     "metadata": {},
     "output_type": "execute_result"
    }
   ],
   "source": [
    "vif_info_afterdrop = pd.DataFrame()\n",
    "vif_info_afterdrop['VIF'] = [variance_inflation_factor(X.values, i) for i in range(X.shape[1])]\n",
    "vif_info_afterdrop['Columns'] = X.columns\n",
    "vif_info_afterdrop.sort_values('VIF', ascending=False)"
   ]
  },
  {
   "cell_type": "code",
   "execution_count": 48,
   "id": "56f7f406-8b3b-4072-b47d-e7c5b7ecd23b",
   "metadata": {},
   "outputs": [
    {
     "data": {
      "text/plain": [
       "array(['day', 'post_weekend', 'pre_weekend', 'is_govt_holiday',\n",
       "       'timeSlot', 'Highest_demand_months', 'season', 'hour_sin',\n",
       "       'hour_cos', 'month_sin', 'month_cos', 'day_of_week_sin',\n",
       "       'day_of_week_cos'], dtype=object)"
      ]
     },
     "execution_count": 48,
     "metadata": {},
     "output_type": "execute_result"
    }
   ],
   "source": [
    "vif_info_afterdrop['Columns'].values"
   ]
  },
  {
   "cell_type": "markdown",
   "id": "7a4d4653-239f-401a-8863-5e4ae4015aa1",
   "metadata": {},
   "source": [
    "#### Train - Validation split"
   ]
  },
  {
   "cell_type": "code",
   "execution_count": 49,
   "id": "e6aad23f-892b-4385-ab94-3995c33f684b",
   "metadata": {},
   "outputs": [],
   "source": [
    "x_cols = vif_info_afterdrop['Columns'].values\n",
    "y_col = 'demand'"
   ]
  },
  {
   "cell_type": "code",
   "execution_count": 50,
   "id": "13e16636-042a-41fb-8519-9647d0f27547",
   "metadata": {},
   "outputs": [
    {
     "data": {
      "text/plain": [
       "array(['day', 'post_weekend', 'pre_weekend', 'is_govt_holiday',\n",
       "       'timeSlot', 'Highest_demand_months', 'season', 'hour_sin',\n",
       "       'hour_cos', 'month_sin', 'month_cos', 'day_of_week_sin',\n",
       "       'day_of_week_cos'], dtype=object)"
      ]
     },
     "execution_count": 50,
     "metadata": {},
     "output_type": "execute_result"
    }
   ],
   "source": [
    "x_cols"
   ]
  },
  {
   "cell_type": "code",
   "execution_count": 51,
   "id": "8d4aaee5-88af-40a5-88ac-d5d76d94d89b",
   "metadata": {},
   "outputs": [],
   "source": [
    "X = train[x_cols].copy()\n",
    "y = train[y_col].copy()\n",
    "X_train, X_val, y_train, y_val = train_test_split(X, y, train_size=0.7, random_state=42)"
   ]
  },
  {
   "cell_type": "code",
   "execution_count": 52,
   "id": "88727a60-631b-45d3-932c-cd4ca0b2e37d",
   "metadata": {},
   "outputs": [
    {
     "data": {
      "text/plain": [
       "((12772, 13), (5475, 13))"
      ]
     },
     "execution_count": 52,
     "metadata": {},
     "output_type": "execute_result"
    }
   ],
   "source": [
    "X_train.shape, X_val.shape"
   ]
  },
  {
   "cell_type": "code",
   "execution_count": 53,
   "id": "297ff960-51d7-46a6-81b0-f60b59d408b4",
   "metadata": {},
   "outputs": [
    {
     "data": {
      "text/html": [
       "<div>\n",
       "<style scoped>\n",
       "    .dataframe tbody tr th:only-of-type {\n",
       "        vertical-align: middle;\n",
       "    }\n",
       "\n",
       "    .dataframe tbody tr th {\n",
       "        vertical-align: top;\n",
       "    }\n",
       "\n",
       "    .dataframe thead th {\n",
       "        text-align: right;\n",
       "    }\n",
       "</style>\n",
       "<table border=\"1\" class=\"dataframe\">\n",
       "  <thead>\n",
       "    <tr style=\"text-align: right;\">\n",
       "      <th></th>\n",
       "      <th>day</th>\n",
       "      <th>post_weekend</th>\n",
       "      <th>pre_weekend</th>\n",
       "      <th>is_govt_holiday</th>\n",
       "      <th>timeSlot</th>\n",
       "      <th>Highest_demand_months</th>\n",
       "      <th>season</th>\n",
       "      <th>hour_sin</th>\n",
       "      <th>hour_cos</th>\n",
       "      <th>month_sin</th>\n",
       "      <th>month_cos</th>\n",
       "      <th>day_of_week_sin</th>\n",
       "      <th>day_of_week_cos</th>\n",
       "    </tr>\n",
       "  </thead>\n",
       "  <tbody>\n",
       "    <tr>\n",
       "      <th>11201</th>\n",
       "      <td>7</td>\n",
       "      <td>0</td>\n",
       "      <td>0</td>\n",
       "      <td>0</td>\n",
       "      <td>0</td>\n",
       "      <td>0</td>\n",
       "      <td>2</td>\n",
       "      <td>-0.866025</td>\n",
       "      <td>-0.500000</td>\n",
       "      <td>1.000000e+00</td>\n",
       "      <td>6.123234e-17</td>\n",
       "      <td>-0.974928</td>\n",
       "      <td>-0.222521</td>\n",
       "    </tr>\n",
       "    <tr>\n",
       "      <th>2417</th>\n",
       "      <td>27</td>\n",
       "      <td>0</td>\n",
       "      <td>0</td>\n",
       "      <td>0</td>\n",
       "      <td>0</td>\n",
       "      <td>0</td>\n",
       "      <td>1</td>\n",
       "      <td>-0.965926</td>\n",
       "      <td>-0.258819</td>\n",
       "      <td>-2.449294e-16</td>\n",
       "      <td>1.000000e+00</td>\n",
       "      <td>0.433884</td>\n",
       "      <td>-0.900969</td>\n",
       "    </tr>\n",
       "    <tr>\n",
       "      <th>11903</th>\n",
       "      <td>8</td>\n",
       "      <td>0</td>\n",
       "      <td>0</td>\n",
       "      <td>0</td>\n",
       "      <td>0</td>\n",
       "      <td>0</td>\n",
       "      <td>2</td>\n",
       "      <td>-0.500000</td>\n",
       "      <td>-0.866025</td>\n",
       "      <td>8.660254e-01</td>\n",
       "      <td>-5.000000e-01</td>\n",
       "      <td>0.974928</td>\n",
       "      <td>-0.222521</td>\n",
       "    </tr>\n",
       "    <tr>\n",
       "      <th>4676</th>\n",
       "      <td>14</td>\n",
       "      <td>0</td>\n",
       "      <td>0</td>\n",
       "      <td>0</td>\n",
       "      <td>0</td>\n",
       "      <td>0</td>\n",
       "      <td>2</td>\n",
       "      <td>-0.500000</td>\n",
       "      <td>-0.866025</td>\n",
       "      <td>8.660254e-01</td>\n",
       "      <td>-5.000000e-01</td>\n",
       "      <td>-0.781831</td>\n",
       "      <td>0.623490</td>\n",
       "    </tr>\n",
       "    <tr>\n",
       "      <th>2921</th>\n",
       "      <td>21</td>\n",
       "      <td>0</td>\n",
       "      <td>0</td>\n",
       "      <td>0</td>\n",
       "      <td>5</td>\n",
       "      <td>0</td>\n",
       "      <td>1</td>\n",
       "      <td>0.258819</td>\n",
       "      <td>0.965926</td>\n",
       "      <td>5.000000e-01</td>\n",
       "      <td>8.660254e-01</td>\n",
       "      <td>0.000000</td>\n",
       "      <td>1.000000</td>\n",
       "    </tr>\n",
       "  </tbody>\n",
       "</table>\n",
       "</div>"
      ],
      "text/plain": [
       "       day  post_weekend  pre_weekend  is_govt_holiday  timeSlot  \\\n",
       "11201    7             0            0                0         0   \n",
       "2417    27             0            0                0         0   \n",
       "11903    8             0            0                0         0   \n",
       "4676    14             0            0                0         0   \n",
       "2921    21             0            0                0         5   \n",
       "\n",
       "       Highest_demand_months  season  hour_sin  hour_cos     month_sin  \\\n",
       "11201                      0       2 -0.866025 -0.500000  1.000000e+00   \n",
       "2417                       0       1 -0.965926 -0.258819 -2.449294e-16   \n",
       "11903                      0       2 -0.500000 -0.866025  8.660254e-01   \n",
       "4676                       0       2 -0.500000 -0.866025  8.660254e-01   \n",
       "2921                       0       1  0.258819  0.965926  5.000000e-01   \n",
       "\n",
       "          month_cos  day_of_week_sin  day_of_week_cos  \n",
       "11201  6.123234e-17        -0.974928        -0.222521  \n",
       "2417   1.000000e+00         0.433884        -0.900969  \n",
       "11903 -5.000000e-01         0.974928        -0.222521  \n",
       "4676  -5.000000e-01        -0.781831         0.623490  \n",
       "2921   8.660254e-01         0.000000         1.000000  "
      ]
     },
     "execution_count": 53,
     "metadata": {},
     "output_type": "execute_result"
    }
   ],
   "source": [
    "X_train.head()"
   ]
  },
  {
   "cell_type": "markdown",
   "id": "744f5eeb-174d-4107-9164-2d13b559476c",
   "metadata": {},
   "source": [
    "### ML Model Selection"
   ]
  },
  {
   "cell_type": "code",
   "execution_count": 54,
   "id": "a6d120bf-2385-41df-a3e0-1a5a22858a11",
   "metadata": {},
   "outputs": [],
   "source": [
    "def evaluate(model, name='Linear Regression'):\n",
    "    predict_train = model.predict(X_train)\n",
    "    predict_val = model.predict(X_val)\n",
    "    train_rmse = np.sqrt(mean_squared_error(y_train, predict_train))\n",
    "    val_rmse = np.sqrt(mean_squared_error(y_val, predict_val))\n",
    "    train_r2 = r2_score(y_train, predict_train)\n",
    "    val_r2 = r2_score(y_val, predict_val)\n",
    "    print(name, \"Train RMSE: \",round(train_rmse,2), \"Val RMSE: \", round(val_rmse,2), \"Train R2: \",round(train_r2,2), \"Val R2: \", round(val_r2,2))"
   ]
  },
  {
   "cell_type": "code",
   "execution_count": 55,
   "id": "b5d6a4de-76fa-4d48-810d-664ed2dbeee1",
   "metadata": {},
   "outputs": [
    {
     "name": "stdout",
     "output_type": "stream",
     "text": [
      "Linear Regression(Ridge) trained.\n",
      "Decision Tree trained.\n",
      "Random Forest trained.\n",
      "Catboost trained.\n",
      "XGBoost Regressor trained.\n",
      "XGBoost RF Regressor trained.\n",
      "Linear Regression trained.\n",
      "Light Gradient Boosting trained.\n"
     ]
    }
   ],
   "source": [
    "models = {\n",
    "    'Linear Regression(Ridge)' : Ridge(),\n",
    "    'Decision Tree' : DecisionTreeRegressor(max_depth=5),\n",
    "    'Random Forest' : RandomForestRegressor(),\n",
    "    'Catboost' : CatBoostRegressor(verbose=0),\n",
    "    'XGBoost Regressor' : XGBRegressor(),\n",
    "    'XGBoost RF Regressor' : XGBRFRegressor(),\n",
    "    'Linear Regression' : LinearRegression(),\n",
    "    'Light Gradient Boosting' : LGBMRegressor()\n",
    "}\n",
    "\n",
    "for name, model in models.items():\n",
    "    model.fit(X_train, y_train)\n",
    "    print(name + ' trained.')"
   ]
  },
  {
   "cell_type": "code",
   "execution_count": 56,
   "id": "a5b4f08b-a70e-42af-8e19-a2c7fc4e805a",
   "metadata": {},
   "outputs": [
    {
     "name": "stdout",
     "output_type": "stream",
     "text": [
      "Linear Regression(Ridge) Train RMSE:  37.36 Val RMSE:  36.97 Train R2:  0.2 Val R2:  0.19\n",
      "Decision Tree Train RMSE:  35.49 Val RMSE:  35.79 Train R2:  0.28 Val R2:  0.24\n",
      "Random Forest Train RMSE:  12.91 Val RMSE:  34.81 Train R2:  0.9 Val R2:  0.28\n",
      "Catboost Train RMSE:  28.51 Val RMSE:  33.26 Train R2:  0.54 Val R2:  0.35\n",
      "XGBoost Regressor Train RMSE:  25.78 Val RMSE:  33.83 Train R2:  0.62 Val R2:  0.32\n",
      "XGBoost RF Regressor Train RMSE:  33.94 Val RMSE:  34.52 Train R2:  0.34 Val R2:  0.3\n",
      "Linear Regression Train RMSE:  37.36 Val RMSE:  36.97 Train R2:  0.2 Val R2:  0.19\n",
      "Light Gradient Boosting Train RMSE:  30.64 Val RMSE:  33.05 Train R2:  0.47 Val R2:  0.36\n"
     ]
    }
   ],
   "source": [
    "for name, model in models.items():\n",
    "    evaluate(model, name)"
   ]
  },
  {
   "cell_type": "markdown",
   "id": "454a714a-ed74-440f-924f-57a6d7188343",
   "metadata": {},
   "source": [
    "#### Light GBM model has the low bias and low variance"
   ]
  },
  {
   "cell_type": "code",
   "execution_count": 57,
   "id": "15b645f8-8270-47ff-99f5-7836ff6a9f94",
   "metadata": {},
   "outputs": [
    {
     "data": {
      "text/plain": [
       "33.051129455191074"
      ]
     },
     "execution_count": 57,
     "metadata": {},
     "output_type": "execute_result"
    }
   ],
   "source": [
    "lgbm = LGBMRegressor(random_state=42)\n",
    "lgbm.fit(X_train, y_train)\n",
    "lgbm_pred = lgbm.predict(X_val)\n",
    "mean_squared_error(y_val, lgbm_pred, squared=False)"
   ]
  },
  {
   "cell_type": "code",
   "execution_count": 58,
   "id": "e6f7ad42-77da-48f2-8d30-be2affa211f0",
   "metadata": {},
   "outputs": [
    {
     "data": {
      "image/png": "[encoded data removed]",
      "text/plain": [
       "<Figure size 432x288 with 1 Axes>"
      ]
     },
     "metadata": {
      "needs_background": "light"
     },
     "output_type": "display_data"
    }
   ],
   "source": [
    "# Permuation importance of features \n",
    "result = permutation_importance(lgbm, X.values, y, n_repeats=10, random_state=42)\n",
    "\n",
    "perm_imp_idx = result.importances_mean.argsort()\n",
    "\n",
    "plt.boxplot(result.importances[perm_imp_idx].T, vert=False, labels=X.columns[perm_imp_idx])\n",
    "plt.title('Feature Importance for the Dataset')\n",
    "\n",
    "plt.show()"
   ]
  },
  {
   "cell_type": "code",
   "execution_count": 59,
   "id": "4340618a-f867-42a5-887d-d590c91553d3",
   "metadata": {},
   "outputs": [
    {
     "data": {
      "text/plain": [
       "array([62.5796537 , 48.68331891, 48.68511086, ..., 62.02486743,\n",
       "       59.75967421, 58.74137258])"
      ]
     },
     "execution_count": 59,
     "metadata": {},
     "output_type": "execute_result"
    }
   ],
   "source": [
    "predicted_test = lgbm.predict(test[x_cols])\n",
    "predicted_test"
   ]
  },
  {
   "cell_type": "code",
   "execution_count": 60,
   "id": "d5e71bca-e35c-4da2-8cb2-dd2409faf913",
   "metadata": {},
   "outputs": [],
   "source": [
    "test['demand'] = predicted_test"
   ]
  },
  {
   "cell_type": "code",
   "execution_count": 61,
   "id": "70851b55-d344-46a5-aeaf-fd770f5def5d",
   "metadata": {},
   "outputs": [
    {
     "data": {
      "text/html": [
       "<div>\n",
       "<style scoped>\n",
       "    .dataframe tbody tr th:only-of-type {\n",
       "        vertical-align: middle;\n",
       "    }\n",
       "\n",
       "    .dataframe tbody tr th {\n",
       "        vertical-align: top;\n",
       "    }\n",
       "\n",
       "    .dataframe thead th {\n",
       "        text-align: right;\n",
       "    }\n",
       "</style>\n",
       "<table border=\"1\" class=\"dataframe\">\n",
       "  <thead>\n",
       "    <tr style=\"text-align: right;\">\n",
       "      <th></th>\n",
       "      <th>date</th>\n",
       "      <th>hour</th>\n",
       "      <th>month</th>\n",
       "      <th>day</th>\n",
       "      <th>weekofyear</th>\n",
       "      <th>day_of_week</th>\n",
       "      <th>is_weekend</th>\n",
       "      <th>post_weekend</th>\n",
       "      <th>pre_weekend</th>\n",
       "      <th>quarter</th>\n",
       "      <th>...</th>\n",
       "      <th>timeSlot</th>\n",
       "      <th>Highest_demand_months</th>\n",
       "      <th>season</th>\n",
       "      <th>hour_sin</th>\n",
       "      <th>hour_cos</th>\n",
       "      <th>month_sin</th>\n",
       "      <th>month_cos</th>\n",
       "      <th>day_of_week_sin</th>\n",
       "      <th>day_of_week_cos</th>\n",
       "      <th>demand</th>\n",
       "    </tr>\n",
       "  </thead>\n",
       "  <tbody>\n",
       "    <tr>\n",
       "      <th>0</th>\n",
       "      <td>2021-03-01</td>\n",
       "      <td>0</td>\n",
       "      <td>3</td>\n",
       "      <td>1</td>\n",
       "      <td>9</td>\n",
       "      <td>0</td>\n",
       "      <td>0</td>\n",
       "      <td>0</td>\n",
       "      <td>0</td>\n",
       "      <td>1</td>\n",
       "      <td>...</td>\n",
       "      <td>2</td>\n",
       "      <td>0</td>\n",
       "      <td>2</td>\n",
       "      <td>0.000000</td>\n",
       "      <td>1.000000</td>\n",
       "      <td>1.0</td>\n",
       "      <td>6.123234e-17</td>\n",
       "      <td>0.0</td>\n",
       "      <td>1.0</td>\n",
       "      <td>62.579654</td>\n",
       "    </tr>\n",
       "    <tr>\n",
       "      <th>1</th>\n",
       "      <td>2021-03-01</td>\n",
       "      <td>1</td>\n",
       "      <td>3</td>\n",
       "      <td>1</td>\n",
       "      <td>9</td>\n",
       "      <td>0</td>\n",
       "      <td>0</td>\n",
       "      <td>0</td>\n",
       "      <td>0</td>\n",
       "      <td>1</td>\n",
       "      <td>...</td>\n",
       "      <td>5</td>\n",
       "      <td>0</td>\n",
       "      <td>2</td>\n",
       "      <td>0.258819</td>\n",
       "      <td>0.965926</td>\n",
       "      <td>1.0</td>\n",
       "      <td>6.123234e-17</td>\n",
       "      <td>0.0</td>\n",
       "      <td>1.0</td>\n",
       "      <td>48.683319</td>\n",
       "    </tr>\n",
       "    <tr>\n",
       "      <th>2</th>\n",
       "      <td>2021-03-01</td>\n",
       "      <td>2</td>\n",
       "      <td>3</td>\n",
       "      <td>1</td>\n",
       "      <td>9</td>\n",
       "      <td>0</td>\n",
       "      <td>0</td>\n",
       "      <td>0</td>\n",
       "      <td>0</td>\n",
       "      <td>1</td>\n",
       "      <td>...</td>\n",
       "      <td>5</td>\n",
       "      <td>0</td>\n",
       "      <td>2</td>\n",
       "      <td>0.500000</td>\n",
       "      <td>0.866025</td>\n",
       "      <td>1.0</td>\n",
       "      <td>6.123234e-17</td>\n",
       "      <td>0.0</td>\n",
       "      <td>1.0</td>\n",
       "      <td>48.685111</td>\n",
       "    </tr>\n",
       "    <tr>\n",
       "      <th>3</th>\n",
       "      <td>2021-03-01</td>\n",
       "      <td>3</td>\n",
       "      <td>3</td>\n",
       "      <td>1</td>\n",
       "      <td>9</td>\n",
       "      <td>0</td>\n",
       "      <td>0</td>\n",
       "      <td>0</td>\n",
       "      <td>0</td>\n",
       "      <td>1</td>\n",
       "      <td>...</td>\n",
       "      <td>5</td>\n",
       "      <td>0</td>\n",
       "      <td>2</td>\n",
       "      <td>0.707107</td>\n",
       "      <td>0.707107</td>\n",
       "      <td>1.0</td>\n",
       "      <td>6.123234e-17</td>\n",
       "      <td>0.0</td>\n",
       "      <td>1.0</td>\n",
       "      <td>48.800667</td>\n",
       "    </tr>\n",
       "    <tr>\n",
       "      <th>4</th>\n",
       "      <td>2021-03-01</td>\n",
       "      <td>5</td>\n",
       "      <td>3</td>\n",
       "      <td>1</td>\n",
       "      <td>9</td>\n",
       "      <td>0</td>\n",
       "      <td>0</td>\n",
       "      <td>0</td>\n",
       "      <td>0</td>\n",
       "      <td>1</td>\n",
       "      <td>...</td>\n",
       "      <td>4</td>\n",
       "      <td>0</td>\n",
       "      <td>2</td>\n",
       "      <td>0.965926</td>\n",
       "      <td>0.258819</td>\n",
       "      <td>1.0</td>\n",
       "      <td>6.123234e-17</td>\n",
       "      <td>0.0</td>\n",
       "      <td>1.0</td>\n",
       "      <td>45.624336</td>\n",
       "    </tr>\n",
       "  </tbody>\n",
       "</table>\n",
       "<p>5 rows × 21 columns</p>\n",
       "</div>"
      ],
      "text/plain": [
       "        date  hour  month  day  weekofyear  day_of_week  is_weekend  \\\n",
       "0 2021-03-01     0      3    1           9            0           0   \n",
       "1 2021-03-01     1      3    1           9            0           0   \n",
       "2 2021-03-01     2      3    1           9            0           0   \n",
       "3 2021-03-01     3      3    1           9            0           0   \n",
       "4 2021-03-01     5      3    1           9            0           0   \n",
       "\n",
       "   post_weekend  pre_weekend  quarter  ...  timeSlot  Highest_demand_months  \\\n",
       "0             0            0        1  ...         2                      0   \n",
       "1             0            0        1  ...         5                      0   \n",
       "2             0            0        1  ...         5                      0   \n",
       "3             0            0        1  ...         5                      0   \n",
       "4             0            0        1  ...         4                      0   \n",
       "\n",
       "   season  hour_sin  hour_cos  month_sin     month_cos  day_of_week_sin  \\\n",
       "0       2  0.000000  1.000000        1.0  6.123234e-17              0.0   \n",
       "1       2  0.258819  0.965926        1.0  6.123234e-17              0.0   \n",
       "2       2  0.500000  0.866025        1.0  6.123234e-17              0.0   \n",
       "3       2  0.707107  0.707107        1.0  6.123234e-17              0.0   \n",
       "4       2  0.965926  0.258819        1.0  6.123234e-17              0.0   \n",
       "\n",
       "   day_of_week_cos     demand  \n",
       "0              1.0  62.579654  \n",
       "1              1.0  48.683319  \n",
       "2              1.0  48.685111  \n",
       "3              1.0  48.800667  \n",
       "4              1.0  45.624336  \n",
       "\n",
       "[5 rows x 21 columns]"
      ]
     },
     "execution_count": 61,
     "metadata": {},
     "output_type": "execute_result"
    }
   ],
   "source": [
    "test.head()"
   ]
  },
  {
   "cell_type": "code",
   "execution_count": 62,
   "id": "fcdfc634-323f-4e71-9fa4-a7e7dd03dbdf",
   "metadata": {},
   "outputs": [
    {
     "data": {
      "text/html": [
       "<div>\n",
       "<style scoped>\n",
       "    .dataframe tbody tr th:only-of-type {\n",
       "        vertical-align: middle;\n",
       "    }\n",
       "\n",
       "    .dataframe tbody tr th {\n",
       "        vertical-align: top;\n",
       "    }\n",
       "\n",
       "    .dataframe thead th {\n",
       "        text-align: right;\n",
       "    }\n",
       "</style>\n",
       "<table border=\"1\" class=\"dataframe\">\n",
       "  <thead>\n",
       "    <tr style=\"text-align: right;\">\n",
       "      <th></th>\n",
       "      <th>date</th>\n",
       "      <th>hour</th>\n",
       "      <th>demand</th>\n",
       "    </tr>\n",
       "  </thead>\n",
       "  <tbody>\n",
       "    <tr>\n",
       "      <th>0</th>\n",
       "      <td>2021-03-01</td>\n",
       "      <td>0</td>\n",
       "      <td>62.579654</td>\n",
       "    </tr>\n",
       "    <tr>\n",
       "      <th>1</th>\n",
       "      <td>2021-03-01</td>\n",
       "      <td>1</td>\n",
       "      <td>48.683319</td>\n",
       "    </tr>\n",
       "    <tr>\n",
       "      <th>2</th>\n",
       "      <td>2021-03-01</td>\n",
       "      <td>2</td>\n",
       "      <td>48.685111</td>\n",
       "    </tr>\n",
       "    <tr>\n",
       "      <th>3</th>\n",
       "      <td>2021-03-01</td>\n",
       "      <td>3</td>\n",
       "      <td>48.800667</td>\n",
       "    </tr>\n",
       "    <tr>\n",
       "      <th>4</th>\n",
       "      <td>2021-03-01</td>\n",
       "      <td>5</td>\n",
       "      <td>45.624336</td>\n",
       "    </tr>\n",
       "  </tbody>\n",
       "</table>\n",
       "</div>"
      ],
      "text/plain": [
       "        date  hour     demand\n",
       "0 2021-03-01     0  62.579654\n",
       "1 2021-03-01     1  48.683319\n",
       "2 2021-03-01     2  48.685111\n",
       "3 2021-03-01     3  48.800667\n",
       "4 2021-03-01     5  45.624336"
      ]
     },
     "execution_count": 62,
     "metadata": {},
     "output_type": "execute_result"
    }
   ],
   "source": [
    "test[['date', 'hour', 'demand']].head()"
   ]
  },
  {
   "cell_type": "code",
   "execution_count": 63,
   "id": "3c4ebc16-0ccc-4a1f-8bec-d8680e5415a4",
   "metadata": {},
   "outputs": [],
   "source": [
    "# Save the submission\n",
    "test[['date', 'hour', 'demand']].to_csv('lightgbm_submission.csv', index=False)"
   ]
  },
  {
   "cell_type": "code",
   "execution_count": null,
   "id": "50feb0c3-f97a-4f7c-9cfc-13b7e826ff97",
   "metadata": {},
   "outputs": [],
   "source": []
  },
  {
   "cell_type": "code",
   "execution_count": null,
   "id": "1c96111b-b52a-4de7-adae-5ebac8630cf2",
   "metadata": {},
   "outputs": [],
   "source": []
  }
 ],
 "metadata": {
  "kernelspec": {
   "display_name": "Python 3 (ipykernel)",
   "language": "python",
   "name": "python3"
  },
  "language_info": {
   "codemirror_mode": {
    "name": "ipython",
    "version": 3
   },
   "file_extension": ".py",
   "mimetype": "text/x-python",
   "name": "python",
   "nbconvert_exporter": "python",
   "pygments_lexer": "ipython3",
   "version": "3.7.11"
  }
 },
 "nbformat": 4,
 "nbformat_minor": 5
}
